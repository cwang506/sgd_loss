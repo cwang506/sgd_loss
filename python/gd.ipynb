{
 "cells": [
  {
   "cell_type": "code",
   "execution_count": 1,
   "metadata": {},
   "outputs": [],
   "source": [
    "%load_ext autoreload\n",
    "%autoreload 2"
   ]
  },
  {
   "cell_type": "code",
   "execution_count": 27,
   "metadata": {},
   "outputs": [],
   "source": [
    "from torch.nn import Softplus #smooth relu\n",
    "import torch.nn as nn\n",
    "import torch.nn.functional as F\n",
    "from utils import generate_polynomial_data\n",
    "import numpy as np\n",
    "import torch\n",
    "import torch.optim as optim\n",
    "from torch.nn import MSELoss\n",
    "from tqdm import tqdm\n",
    "\n",
    "from model import Net, check_loss_landscape"
   ]
  },
  {
   "cell_type": "code",
   "execution_count": 28,
   "metadata": {},
   "outputs": [],
   "source": [
    "torch.manual_seed(0)\n",
    "\n",
    "suffix = \"3\"\n",
    "\n",
    "n = 20\n",
    "d = 10000\n",
    "generate_data = False\n",
    "\n",
    "coeffs = np.random.rand(d, 1)\n",
    "xvals = np.random.rand(n)\n",
    "if generate_data:\n",
    "    print(\"Generating Data...\")\n",
    "    X, Y = generate_polynomial_data(coeffs, xvals)\n",
    "    '''with open(\"./datasets/X%s.npy\" %suffix, \"wb\") as f:\n",
    "        np.save(f, X)\n",
    "    with open(\"./datasets/Y%s.npy\" %suffix, \"wb\") as f:\n",
    "        np.save(f, Y)\n",
    "    with open(\"./datasets/coeffs%s.npy\" %suffix, \"wb\") as f:\n",
    "        np.save(f, coeffs)'''\n",
    "else:\n",
    "    with open(\"./datasets/X%s.npy\" %suffix, \"rb\") as f:\n",
    "        X = np.load(f)\n",
    "    with open(\"./datasets/Y%s.npy\" %suffix, \"rb\") as f:\n",
    "        Y = np.load(f)\n",
    "    with open(\"./datasets/coeffs%s.npy\" %suffix, \"rb\") as f:\n",
    "        coeffs = np.load(f)"
   ]
  },
  {
   "cell_type": "code",
   "execution_count": 29,
   "metadata": {},
   "outputs": [],
   "source": [
    "net = Net(d, epochs = 20)"
   ]
  },
  {
   "cell_type": "code",
   "execution_count": 30,
   "metadata": {},
   "outputs": [],
   "source": [
    "device = next(net.parameters()).device"
   ]
  },
  {
   "cell_type": "code",
   "execution_count": 31,
   "metadata": {},
   "outputs": [],
   "source": [
    "X_cuda = torch.from_numpy(X).to(device)\n",
    "Y_cuda = torch.from_numpy(Y).to(device)"
   ]
  },
  {
   "cell_type": "code",
   "execution_count": 32,
   "metadata": {},
   "outputs": [
    {
     "name": "stderr",
     "output_type": "stream",
     "text": [
      "100%|██████████| 2000/2000 [04:27<00:00,  7.49it/s]\n",
      "  0%|          | 1/2000 [00:00<04:18,  7.72it/s]"
     ]
    },
    {
     "name": "stdout",
     "output_type": "stream",
     "text": [
      "\r",
      "Epoch 1 iteration 2000 loss: 4009.78\n"
     ]
    },
    {
     "name": "stderr",
     "output_type": "stream",
     "text": [
      "100%|██████████| 2000/2000 [04:26<00:00,  7.49it/s]\n",
      "  0%|          | 1/2000 [00:00<04:22,  7.60it/s]"
     ]
    },
    {
     "name": "stdout",
     "output_type": "stream",
     "text": [
      "\r",
      "Epoch 2 iteration 2000 loss: 1255.26\n"
     ]
    },
    {
     "name": "stderr",
     "output_type": "stream",
     "text": [
      "100%|██████████| 2000/2000 [04:30<00:00,  7.40it/s]\n",
      "  0%|          | 1/2000 [00:00<04:28,  7.44it/s]"
     ]
    },
    {
     "name": "stdout",
     "output_type": "stream",
     "text": [
      "\r",
      "Epoch 3 iteration 2000 loss: 1255.26\n"
     ]
    },
    {
     "name": "stderr",
     "output_type": "stream",
     "text": [
      "100%|██████████| 2000/2000 [04:27<00:00,  7.49it/s]\n",
      "  0%|          | 1/2000 [00:00<04:20,  7.68it/s]"
     ]
    },
    {
     "name": "stdout",
     "output_type": "stream",
     "text": [
      "\r",
      "Epoch 4 iteration 2000 loss: 1255.26\n"
     ]
    },
    {
     "name": "stderr",
     "output_type": "stream",
     "text": [
      "100%|██████████| 2000/2000 [04:27<00:00,  7.47it/s]\n",
      "  0%|          | 1/2000 [00:00<04:19,  7.70it/s]"
     ]
    },
    {
     "name": "stdout",
     "output_type": "stream",
     "text": [
      "\r",
      "Epoch 5 iteration 2000 loss: 1255.26\n"
     ]
    },
    {
     "name": "stderr",
     "output_type": "stream",
     "text": [
      "100%|██████████| 2000/2000 [06:18<00:00,  5.29it/s]\n",
      "  0%|          | 0/2000 [00:00<?, ?it/s]"
     ]
    },
    {
     "name": "stdout",
     "output_type": "stream",
     "text": [
      "\r",
      "Epoch 6 iteration 2000 loss: 1255.26\n"
     ]
    },
    {
     "name": "stderr",
     "output_type": "stream",
     "text": [
      "100%|██████████| 2000/2000 [08:57<00:00,  3.72it/s]\n",
      "  0%|          | 0/2000 [00:00<?, ?it/s]"
     ]
    },
    {
     "name": "stdout",
     "output_type": "stream",
     "text": [
      "\r",
      "Epoch 7 iteration 2000 loss: 1255.26\n"
     ]
    },
    {
     "name": "stderr",
     "output_type": "stream",
     "text": [
      "100%|██████████| 2000/2000 [08:57<00:00,  3.72it/s]\n",
      "  0%|          | 0/2000 [00:00<?, ?it/s]"
     ]
    },
    {
     "name": "stdout",
     "output_type": "stream",
     "text": [
      "\r",
      "Epoch 8 iteration 2000 loss: 1255.26\n"
     ]
    },
    {
     "name": "stderr",
     "output_type": "stream",
     "text": [
      "100%|██████████| 2000/2000 [08:57<00:00,  3.72it/s]\n",
      "  0%|          | 0/2000 [00:00<?, ?it/s]"
     ]
    },
    {
     "name": "stdout",
     "output_type": "stream",
     "text": [
      "\r",
      "Epoch 9 iteration 2000 loss: 1255.26\n"
     ]
    },
    {
     "name": "stderr",
     "output_type": "stream",
     "text": [
      "100%|██████████| 2000/2000 [08:58<00:00,  3.72it/s]\n",
      "  0%|          | 0/2000 [00:00<?, ?it/s]"
     ]
    },
    {
     "name": "stdout",
     "output_type": "stream",
     "text": [
      "\r",
      "Epoch 10 iteration 2000 loss: 1255.26\n"
     ]
    },
    {
     "name": "stderr",
     "output_type": "stream",
     "text": [
      "100%|██████████| 2000/2000 [08:58<00:00,  3.71it/s]\n",
      "  0%|          | 0/2000 [00:00<?, ?it/s]"
     ]
    },
    {
     "name": "stdout",
     "output_type": "stream",
     "text": [
      "\r",
      "Epoch 11 iteration 2000 loss: 1255.26\n"
     ]
    },
    {
     "name": "stderr",
     "output_type": "stream",
     "text": [
      "100%|██████████| 2000/2000 [08:53<00:00,  3.75it/s]\n",
      "  0%|          | 0/2000 [00:00<?, ?it/s]"
     ]
    },
    {
     "name": "stdout",
     "output_type": "stream",
     "text": [
      "\r",
      "Epoch 12 iteration 2000 loss: 1255.26\n"
     ]
    },
    {
     "name": "stderr",
     "output_type": "stream",
     "text": [
      "100%|██████████| 2000/2000 [07:41<00:00,  4.34it/s]\n",
      "  0%|          | 0/2000 [00:00<?, ?it/s]"
     ]
    },
    {
     "name": "stdout",
     "output_type": "stream",
     "text": [
      "\r",
      "Epoch 13 iteration 2000 loss: 1255.26\n"
     ]
    },
    {
     "name": "stderr",
     "output_type": "stream",
     "text": [
      "100%|██████████| 2000/2000 [07:41<00:00,  4.34it/s]\n",
      "  0%|          | 0/2000 [00:00<?, ?it/s]"
     ]
    },
    {
     "name": "stdout",
     "output_type": "stream",
     "text": [
      "\r",
      "Epoch 14 iteration 2000 loss: 1255.26\n"
     ]
    },
    {
     "name": "stderr",
     "output_type": "stream",
     "text": [
      "100%|██████████| 2000/2000 [07:41<00:00,  4.34it/s]\n",
      "  0%|          | 0/2000 [00:00<?, ?it/s]"
     ]
    },
    {
     "name": "stdout",
     "output_type": "stream",
     "text": [
      "\r",
      "Epoch 15 iteration 2000 loss: 1255.26\n"
     ]
    },
    {
     "name": "stderr",
     "output_type": "stream",
     "text": [
      "100%|██████████| 2000/2000 [07:40<00:00,  4.34it/s]\n",
      "  0%|          | 0/2000 [00:00<?, ?it/s]"
     ]
    },
    {
     "name": "stdout",
     "output_type": "stream",
     "text": [
      "\r",
      "Epoch 16 iteration 2000 loss: 1255.26\n"
     ]
    },
    {
     "name": "stderr",
     "output_type": "stream",
     "text": [
      "100%|██████████| 2000/2000 [07:41<00:00,  4.34it/s]\n",
      "  0%|          | 0/2000 [00:00<?, ?it/s]"
     ]
    },
    {
     "name": "stdout",
     "output_type": "stream",
     "text": [
      "\r",
      "Epoch 17 iteration 2000 loss: 1255.26\n"
     ]
    },
    {
     "name": "stderr",
     "output_type": "stream",
     "text": [
      "100%|██████████| 2000/2000 [07:41<00:00,  4.34it/s]\n",
      "  0%|          | 0/2000 [00:00<?, ?it/s]"
     ]
    },
    {
     "name": "stdout",
     "output_type": "stream",
     "text": [
      "\r",
      "Epoch 18 iteration 2000 loss: 1255.26\n"
     ]
    },
    {
     "name": "stderr",
     "output_type": "stream",
     "text": [
      "100%|██████████| 2000/2000 [07:41<00:00,  4.34it/s]\n",
      "  0%|          | 0/2000 [00:00<?, ?it/s]"
     ]
    },
    {
     "name": "stdout",
     "output_type": "stream",
     "text": [
      "\r",
      "Epoch 19 iteration 2000 loss: 1255.26\n"
     ]
    },
    {
     "name": "stderr",
     "output_type": "stream",
     "text": [
      "100%|██████████| 2000/2000 [07:41<00:00,  4.34it/s]"
     ]
    },
    {
     "name": "stdout",
     "output_type": "stream",
     "text": [
      "\r",
      "Epoch 20 iteration 2000 loss: 1255.26\n"
     ]
    },
    {
     "name": "stderr",
     "output_type": "stream",
     "text": [
      "\n"
     ]
    },
    {
     "data": {
      "image/png": "[encoded data removed]",
      "text/plain": [
       "<Figure size 432x288 with 1 Axes>"
      ]
     },
     "metadata": {
      "needs_background": "light"
     },
     "output_type": "display_data"
    }
   ],
   "source": [
    "net.train_gd(X, Y, T=2000, lr=1e-03)"
   ]
  },
  {
   "cell_type": "code",
   "execution_count": 33,
   "metadata": {},
   "outputs": [
    {
     "name": "stderr",
     "output_type": "stream",
     "text": [
      "[autoreload of model failed: Traceback (most recent call last):\n",
      "  File \"/home/cwang506/.conda/envs/torch-env/lib/python3.8/site-packages/IPython/extensions/autoreload.py\", line 245, in check\n",
      "    superreload(m, reload, self.old_objects)\n",
      "  File \"/home/cwang506/.conda/envs/torch-env/lib/python3.8/site-packages/IPython/extensions/autoreload.py\", line 394, in superreload\n",
      "    module = reload(module)\n",
      "  File \"/home/cwang506/.conda/envs/torch-env/lib/python3.8/imp.py\", line 314, in reload\n",
      "    return importlib.reload(module)\n",
      "  File \"/home/cwang506/.conda/envs/torch-env/lib/python3.8/importlib/__init__.py\", line 169, in reload\n",
      "    _bootstrap._exec(spec, module)\n",
      "  File \"<frozen importlib._bootstrap>\", line 604, in _exec\n",
      "  File \"<frozen importlib._bootstrap_external>\", line 779, in exec_module\n",
      "  File \"<frozen importlib._bootstrap_external>\", line 916, in get_code\n",
      "  File \"<frozen importlib._bootstrap_external>\", line 846, in source_to_code\n",
      "  File \"<frozen importlib._bootstrap>\", line 219, in _call_with_frames_removed\n",
      "  File \"/home/cwang506/sgd_loss/python/model.py\", line 36\n",
      "    def my_plot(self, epochs, loss, sgd=True, loss = \"Squared Error\"):\n",
      "    ^\n",
      "SyntaxError: duplicate argument 'loss' in function definition\n",
      "]\n"
     ]
    }
   ],
   "source": [
    "model_path = \"./models/model_%s.pt\"%suffix\n",
    "torch.save(net.state_dict(), model_path)"
   ]
  },
  {
   "cell_type": "code",
   "execution_count": 34,
   "metadata": {},
   "outputs": [
    {
     "name": "stdout",
     "output_type": "stream",
     "text": [
      "Overall loss: tensor(62.7630, grad_fn=<MseLossBackward>)\n",
      "4.275935173034668 1.395673058120217\n",
      "4.275935173034668 0.5092175232967956\n",
      "4.275935173034668 1.0342934638919727\n",
      "4.275935173034668 2.6966071763222557\n",
      "4.275935173034668 4.212777224784648\n",
      "4.275935173034668 0.48522481051099375\n",
      "4.275935173034668 27.427003793125827\n",
      "4.275935173034668 1.2415786593346545\n",
      "4.275935173034668 0.5185361704513592\n",
      "4.275935173034668 0.7549449502833208\n",
      "4.275935173034668 0.510679244602981\n",
      "4.275935173034668 6.364185597174342\n",
      "4.275935173034668 27.85730795019833\n",
      "4.275935173034668 0.4873869363326762\n",
      "4.275935173034668 0.4771608283215414\n",
      "4.275935173034668 1.5666525496287127\n",
      "4.275935173034668 2.143945347008627\n",
      "4.275935173034668 2.7660091615553464\n",
      "4.275935173034668 0.7902474529950809\n",
      "4.275935173034668 2.279385803933053\n"
     ]
    }
   ],
   "source": [
    "check_loss_landscape(model_path, X, Y)"
   ]
  },
  {
   "cell_type": "code",
   "execution_count": null,
   "metadata": {},
   "outputs": [],
   "source": []
  }
 ],
 "metadata": {
  "kernelspec": {
   "display_name": "Python 3",
   "language": "python",
   "name": "python3"
  },
  "language_info": {
   "codemirror_mode": {
    "name": "ipython",
    "version": 3
   },
   "file_extension": ".py",
   "mimetype": "text/x-python",
   "name": "python",
   "nbconvert_exporter": "python",
   "pygments_lexer": "ipython3",
   "version": "3.8.5"
  }
 },
 "nbformat": 4,
 "nbformat_minor": 4
}
