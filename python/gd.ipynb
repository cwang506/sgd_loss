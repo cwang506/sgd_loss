{
 "cells": [
  {
   "cell_type": "code",
   "execution_count": 1,
   "metadata": {},
   "outputs": [],
   "source": [
    "%load_ext autoreload\n",
    "%autoreload 2"
   ]
  },
  {
   "cell_type": "code",
   "execution_count": 27,
   "metadata": {},
   "outputs": [],
   "source": [
    "from torch.nn import Softplus #smooth relu\n",
    "import torch.nn as nn\n",
    "import torch.nn.functional as F\n",
    "from utils import generate_polynomial_data\n",
    "import numpy as np\n",
    "import torch\n",
    "import torch.optim as optim\n",
    "from torch.nn import MSELoss\n",
    "from tqdm import tqdm\n",
    "\n",
    "from model import Net, check_loss_landscape"
   ]
  },
  {
   "cell_type": "code",
   "execution_count": 28,
   "metadata": {},
   "outputs": [],
   "source": [
    "torch.manual_seed(0)\n",
    "\n",
    "suffix = \"3\"\n",
    "\n",
    "n = 5000\n",
    "d = 10000\n",
    "generate_data = False\n",
    "\n",
    "coeffs = np.random.rand(d, 1)\n",
    "xvals = np.random.rand(n)\n",
    "if generate_data:\n",
    "    print(\"Generating Data...\")\n",
    "    X, Y = generate_polynomial_data(coeffs, xvals)\n",
    "    '''with open(\"./datasets/X%s.npy\" %suffix, \"wb\") as f:\n",
    "        np.save(f, X)\n",
    "    with open(\"./datasets/Y%s.npy\" %suffix, \"wb\") as f:\n",
    "        np.save(f, Y)\n",
    "    with open(\"./datasets/coeffs%s.npy\" %suffix, \"wb\") as f:\n",
    "        np.save(f, coeffs)'''\n",
    "else:\n",
    "    with open(\"./datasets/X%s.npy\" %suffix, \"rb\") as f:\n",
    "        X = np.load(f)\n",
    "    with open(\"./datasets/Y%s.npy\" %suffix, \"rb\") as f:\n",
    "        Y = np.load(f)\n",
    "    with open(\"./datasets/coeffs%s.npy\" %suffix, \"rb\") as f:\n",
    "        coeffs = np.load(f)"
   ]
  },
  {
   "cell_type": "code",
   "execution_count": 29,
   "metadata": {},
   "outputs": [],
   "source": [
    "net = Net(d, epochs = 20)"
   ]
  },
  {
   "cell_type": "code",
   "execution_count": 30,
   "metadata": {},
   "outputs": [],
   "source": [
    "device = next(net.parameters()).device"
   ]
  },
  {
   "cell_type": "code",
   "execution_count": 31,
   "metadata": {},
   "outputs": [],
   "source": [
    "X_cuda = torch.from_numpy(X).to(device)\n",
    "Y_cuda = torch.from_numpy(Y).to(device)"
   ]
  },
  {
   "cell_type": "code",
   "execution_count": null,
   "metadata": {},
   "outputs": [
    {
     "name": "stderr",
     "output_type": "stream",
     "text": [
      "100%|██████████| 2000/2000 [04:27<00:00,  7.49it/s]\n",
      "  0%|          | 1/2000 [00:00<04:18,  7.72it/s]"
     ]
    },
    {
     "name": "stdout",
     "output_type": "stream",
     "text": [
      "\r",
      "Epoch 1 iteration 2000 loss: 4009.78\n"
     ]
    },
    {
     "name": "stderr",
     "output_type": "stream",
     "text": [
      "100%|██████████| 2000/2000 [04:26<00:00,  7.49it/s]\n",
      "  0%|          | 1/2000 [00:00<04:22,  7.60it/s]"
     ]
    },
    {
     "name": "stdout",
     "output_type": "stream",
     "text": [
      "\r",
      "Epoch 2 iteration 2000 loss: 1255.26\n"
     ]
    },
    {
     "name": "stderr",
     "output_type": "stream",
     "text": [
      "100%|██████████| 2000/2000 [04:30<00:00,  7.40it/s]\n",
      "  0%|          | 1/2000 [00:00<04:28,  7.44it/s]"
     ]
    },
    {
     "name": "stdout",
     "output_type": "stream",
     "text": [
      "\r",
      "Epoch 3 iteration 2000 loss: 1255.26\n"
     ]
    },
    {
     "name": "stderr",
     "output_type": "stream",
     "text": [
      "100%|██████████| 2000/2000 [04:27<00:00,  7.49it/s]\n",
      "  0%|          | 1/2000 [00:00<04:20,  7.68it/s]"
     ]
    },
    {
     "name": "stdout",
     "output_type": "stream",
     "text": [
      "\r",
      "Epoch 4 iteration 2000 loss: 1255.26\n"
     ]
    },
    {
     "name": "stderr",
     "output_type": "stream",
     "text": [
      "100%|██████████| 2000/2000 [04:27<00:00,  7.47it/s]\n",
      "  0%|          | 1/2000 [00:00<04:19,  7.70it/s]"
     ]
    },
    {
     "name": "stdout",
     "output_type": "stream",
     "text": [
      "\r",
      "Epoch 5 iteration 2000 loss: 1255.26\n"
     ]
    },
    {
     "name": "stderr",
     "output_type": "stream",
     "text": [
      "100%|██████████| 2000/2000 [06:18<00:00,  5.29it/s]\n",
      "  0%|          | 0/2000 [00:00<?, ?it/s]"
     ]
    },
    {
     "name": "stdout",
     "output_type": "stream",
     "text": [
      "\r",
      "Epoch 6 iteration 2000 loss: 1255.26\n"
     ]
    },
    {
     "name": "stderr",
     "output_type": "stream",
     "text": [
      "100%|██████████| 2000/2000 [08:57<00:00,  3.72it/s]\n",
      "  0%|          | 0/2000 [00:00<?, ?it/s]"
     ]
    },
    {
     "name": "stdout",
     "output_type": "stream",
     "text": [
      "\r",
      "Epoch 7 iteration 2000 loss: 1255.26\n"
     ]
    },
    {
     "name": "stderr",
     "output_type": "stream",
     "text": [
      " 53%|█████▎    | 1057/2000 [04:44<04:12,  3.74it/s]"
     ]
    }
   ],
   "source": [
    "net.train_gd(X, Y, T=2000, lr=1e-03)"
   ]
  },
  {
   "cell_type": "code",
   "execution_count": null,
   "metadata": {},
   "outputs": [],
   "source": [
    "model_path = \"./models/model_%s.pt\"%suffix\n",
    "torch.save(net.state_dict(), model_path)"
   ]
  },
  {
   "cell_type": "code",
   "execution_count": null,
   "metadata": {},
   "outputs": [],
   "source": [
    "check_loss_landscape(model_path, X, Y)"
   ]
  },
  {
   "cell_type": "code",
   "execution_count": null,
   "metadata": {},
   "outputs": [],
   "source": []
  }
 ],
 "metadata": {
  "kernelspec": {
   "display_name": "Python 3",
   "language": "python",
   "name": "python3"
  },
  "language_info": {
   "codemirror_mode": {
    "name": "ipython",
    "version": 3
   },
   "file_extension": ".py",
   "mimetype": "text/x-python",
   "name": "python",
   "nbconvert_exporter": "python",
   "pygments_lexer": "ipython3",
   "version": "3.8.5"
  }
 },
 "nbformat": 4,
 "nbformat_minor": 4
}
