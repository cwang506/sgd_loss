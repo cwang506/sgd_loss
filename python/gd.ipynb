{
 "cells": [
  {
   "cell_type": "code",
   "execution_count": 1,
   "metadata": {},
   "outputs": [],
   "source": [
    "%load_ext autoreload\n",
    "%autoreload 2"
   ]
  },
  {
   "cell_type": "code",
   "execution_count": 20,
   "metadata": {},
   "outputs": [],
   "source": [
    "from torch.nn import Softplus #smooth relu\n",
    "import torch.nn as nn\n",
    "import torch.nn.functional as F\n",
    "from utils import generate_polynomial_data\n",
    "import numpy as np\n",
    "import torch\n",
    "import torch.optim as optim\n",
    "from torch.nn import MSELoss\n",
    "import pickle, copy\n",
    "from tqdm import tqdm\n",
    "\n",
    "from model import Net, check_loss_landscape\n",
    "\n",
    "import matplotlib.pyplot as plt"
   ]
  },
  {
   "cell_type": "code",
   "execution_count": 19,
   "metadata": {},
   "outputs": [],
   "source": [
    "torch.manual_seed(0)\n",
    "suffix = \"3\"\n",
    "\n",
    "n = 300\n",
    "d = 5000\n",
    "generate_data = False\n",
    "usepickle = True\n",
    "\n",
    "coeffs = -1+2*np.random.rand(d, 1)\n",
    "xvals = -1+2*np.random.rand(n)\n",
    "fileend = \".pickle\" if usepickle else \".npy\"\n",
    "\n",
    "if generate_data:\n",
    "    print(\"Generating Data...\")\n",
    "    X, Y = generate_polynomial_data(coeffs, xvals)\n",
    "    with open(\"./datasets/X%s%s\" %((\"pickle_\" if usepickle else \"\"), suffix)+fileend, \"wb\") as f:\n",
    "        if usepickle:\n",
    "            pickle.dump(X, f)\n",
    "        else:\n",
    "            np.save(f, X)\n",
    "    with open(\"./datasets/Y%s%s\" %((\"pickle_\" if usepickle else \"\"),suffix) + fileend, \"wb\") as f:\n",
    "        if usepickle:\n",
    "            pickle.dump(Y, f)\n",
    "        else:\n",
    "            np.save(f, Y)\n",
    "    with open(\"./datasets/coeffs%s%s\" %((\"pickle_\" if usepickle else \"\"),suffix) + fileend, \"wb\") as f:\n",
    "        if usepickle:\n",
    "            pickle.dump(coeffs, f)\n",
    "        else:\n",
    "            np.save(f, coeffs)\n",
    "    \n",
    "else:\n",
    "    with open(\"./datasets/X%s%s\" %((\"pickle_\" if usepickle else \"\"),suffix) + fileend, \"rb\") as f:\n",
    "        if usepickle:\n",
    "            X = pickle.load(f)\n",
    "        else:\n",
    "            X = np.load(f)\n",
    "    with open(\"./datasets/Y%s%s\" %((\"pickle_\" if usepickle else \"\"),suffix) + fileend, \"rb\") as f:\n",
    "        if usepickle:\n",
    "            Y = pickle.load(f)\n",
    "        else:\n",
    "            Y = np.load(f)\n",
    "    with open(\"./datasets/coeffs%s%s\" %((\"pickle_\" if usepickle else \"\"),suffix) + fileend, \"rb\") as f:\n",
    "        if usepickle:\n",
    "            coeffs = pickle.load(f)\n",
    "        else:\n",
    "            coeffs = np.load(f)"
   ]
  },
  {
   "cell_type": "code",
   "execution_count": 4,
   "metadata": {},
   "outputs": [
    {
     "name": "stdout",
     "output_type": "stream",
     "text": [
      "Running on GPU\n"
     ]
    },
    {
     "name": "stderr",
     "output_type": "stream",
     "text": [
      "\r",
      "  0%|          | 0/2000 [00:00<?, ?it/s]"
     ]
    },
    {
     "name": "stdout",
     "output_type": "stream",
     "text": [
      "Running on GPU\n"
     ]
    },
    {
     "name": "stderr",
     "output_type": "stream",
     "text": [
      "100%|██████████| 2000/2000 [00:07<00:00, 270.24it/s]\n",
      "  2%|▏         | 36/2000 [00:00<00:05, 359.72it/s]"
     ]
    },
    {
     "name": "stdout",
     "output_type": "stream",
     "text": [
      "\r",
      "Epoch 1 iteration 2000 loss: 1.73\n"
     ]
    },
    {
     "name": "stderr",
     "output_type": "stream",
     "text": [
      "100%|██████████| 2000/2000 [00:05<00:00, 362.70it/s]\n",
      "  2%|▏         | 41/2000 [00:00<00:04, 403.74it/s]"
     ]
    },
    {
     "name": "stdout",
     "output_type": "stream",
     "text": [
      "\r",
      "Epoch 2 iteration 2000 loss: 1.73\n"
     ]
    },
    {
     "name": "stderr",
     "output_type": "stream",
     "text": [
      "100%|██████████| 2000/2000 [00:05<00:00, 372.19it/s]\n",
      "  2%|▏         | 41/2000 [00:00<00:04, 401.50it/s]"
     ]
    },
    {
     "name": "stdout",
     "output_type": "stream",
     "text": [
      "\r",
      "Epoch 3 iteration 2000 loss: 1.72\n"
     ]
    },
    {
     "name": "stderr",
     "output_type": "stream",
     "text": [
      "100%|██████████| 2000/2000 [00:05<00:00, 388.24it/s]\n",
      "  2%|▏         | 41/2000 [00:00<00:04, 401.43it/s]"
     ]
    },
    {
     "name": "stdout",
     "output_type": "stream",
     "text": [
      "\r",
      "Epoch 4 iteration 2000 loss: 1.72\n"
     ]
    },
    {
     "name": "stderr",
     "output_type": "stream",
     "text": [
      "100%|██████████| 2000/2000 [00:05<00:00, 378.51it/s]\n",
      "  2%|▏         | 40/2000 [00:00<00:04, 398.25it/s]"
     ]
    },
    {
     "name": "stdout",
     "output_type": "stream",
     "text": [
      "\r",
      "Epoch 5 iteration 2000 loss: 1.69\n"
     ]
    },
    {
     "name": "stderr",
     "output_type": "stream",
     "text": [
      "100%|██████████| 2000/2000 [00:05<00:00, 389.37it/s]\n",
      "  2%|▏         | 41/2000 [00:00<00:04, 400.02it/s]"
     ]
    },
    {
     "name": "stdout",
     "output_type": "stream",
     "text": [
      "\r",
      "Epoch 6 iteration 2000 loss: 1.51\n"
     ]
    },
    {
     "name": "stderr",
     "output_type": "stream",
     "text": [
      "100%|██████████| 2000/2000 [00:05<00:00, 357.17it/s]\n",
      "  2%|▏         | 36/2000 [00:00<00:05, 359.73it/s]"
     ]
    },
    {
     "name": "stdout",
     "output_type": "stream",
     "text": [
      "\r",
      "Epoch 7 iteration 2000 loss: 0.18\n"
     ]
    },
    {
     "name": "stderr",
     "output_type": "stream",
     "text": [
      "100%|██████████| 2000/2000 [00:05<00:00, 351.38it/s]\n",
      "  2%|▏         | 30/2000 [00:00<00:06, 295.84it/s]"
     ]
    },
    {
     "name": "stdout",
     "output_type": "stream",
     "text": [
      "\r",
      "Epoch 8 iteration 2000 loss: 0.06\n"
     ]
    },
    {
     "name": "stderr",
     "output_type": "stream",
     "text": [
      "100%|██████████| 2000/2000 [00:05<00:00, 355.52it/s]\n",
      "  1%|▏         | 27/2000 [00:00<00:07, 266.06it/s]"
     ]
    },
    {
     "name": "stdout",
     "output_type": "stream",
     "text": [
      "\r",
      "Epoch 9 iteration 2000 loss: 0.05\n"
     ]
    },
    {
     "name": "stderr",
     "output_type": "stream",
     "text": [
      "100%|██████████| 2000/2000 [00:06<00:00, 324.41it/s]\n",
      "  2%|▏         | 36/2000 [00:00<00:05, 358.94it/s]"
     ]
    },
    {
     "name": "stdout",
     "output_type": "stream",
     "text": [
      "\r",
      "Epoch 10 iteration 2000 loss: 0.05\n"
     ]
    },
    {
     "name": "stderr",
     "output_type": "stream",
     "text": [
      "100%|██████████| 2000/2000 [00:05<00:00, 375.62it/s]\n",
      "  2%|▏         | 40/2000 [00:00<00:04, 398.78it/s]"
     ]
    },
    {
     "name": "stdout",
     "output_type": "stream",
     "text": [
      "\r",
      "Epoch 11 iteration 2000 loss: 0.04\n"
     ]
    },
    {
     "name": "stderr",
     "output_type": "stream",
     "text": [
      "100%|██████████| 2000/2000 [00:05<00:00, 396.32it/s]\n",
      "  2%|▏         | 41/2000 [00:00<00:04, 405.55it/s]"
     ]
    },
    {
     "name": "stdout",
     "output_type": "stream",
     "text": [
      "\r",
      "Epoch 12 iteration 2000 loss: 0.04\n"
     ]
    },
    {
     "name": "stderr",
     "output_type": "stream",
     "text": [
      "100%|██████████| 2000/2000 [00:05<00:00, 392.91it/s]\n",
      "  2%|▏         | 41/2000 [00:00<00:04, 401.40it/s]"
     ]
    },
    {
     "name": "stdout",
     "output_type": "stream",
     "text": [
      "\r",
      "Epoch 13 iteration 2000 loss: 0.03\n"
     ]
    },
    {
     "name": "stderr",
     "output_type": "stream",
     "text": [
      "100%|██████████| 2000/2000 [00:04<00:00, 407.38it/s]\n",
      "  2%|▏         | 43/2000 [00:00<00:04, 426.92it/s]"
     ]
    },
    {
     "name": "stdout",
     "output_type": "stream",
     "text": [
      "\r",
      "Epoch 14 iteration 2000 loss: 0.03\n"
     ]
    },
    {
     "name": "stderr",
     "output_type": "stream",
     "text": [
      "100%|██████████| 2000/2000 [00:04<00:00, 425.11it/s]\n",
      "  2%|▏         | 41/2000 [00:00<00:04, 399.97it/s]"
     ]
    },
    {
     "name": "stdout",
     "output_type": "stream",
     "text": [
      "\r",
      "Epoch 15 iteration 2000 loss: 0.02\n"
     ]
    },
    {
     "name": "stderr",
     "output_type": "stream",
     "text": [
      "100%|██████████| 2000/2000 [00:04<00:00, 401.34it/s]\n",
      "  2%|▏         | 35/2000 [00:00<00:05, 343.46it/s]"
     ]
    },
    {
     "name": "stdout",
     "output_type": "stream",
     "text": [
      "\r",
      "Epoch 16 iteration 2000 loss: 0.02\n"
     ]
    },
    {
     "name": "stderr",
     "output_type": "stream",
     "text": [
      "100%|██████████| 2000/2000 [00:05<00:00, 399.00it/s]\n",
      "  2%|▏         | 39/2000 [00:00<00:05, 388.36it/s]"
     ]
    },
    {
     "name": "stdout",
     "output_type": "stream",
     "text": [
      "\r",
      "Epoch 17 iteration 2000 loss: 0.02\n"
     ]
    },
    {
     "name": "stderr",
     "output_type": "stream",
     "text": [
      "100%|██████████| 2000/2000 [00:05<00:00, 390.25it/s]\n",
      "  2%|▏         | 39/2000 [00:00<00:05, 380.69it/s]"
     ]
    },
    {
     "name": "stdout",
     "output_type": "stream",
     "text": [
      "\r",
      "Epoch 18 iteration 2000 loss: 0.01\n"
     ]
    },
    {
     "name": "stderr",
     "output_type": "stream",
     "text": [
      "100%|██████████| 2000/2000 [00:04<00:00, 404.93it/s]\n",
      "  2%|▏         | 44/2000 [00:00<00:04, 430.49it/s]"
     ]
    },
    {
     "name": "stdout",
     "output_type": "stream",
     "text": [
      "\r",
      "Epoch 19 iteration 2000 loss: 0.01\n"
     ]
    },
    {
     "name": "stderr",
     "output_type": "stream",
     "text": [
      "100%|██████████| 2000/2000 [00:04<00:00, 419.35it/s]\n"
     ]
    },
    {
     "name": "stdout",
     "output_type": "stream",
     "text": [
      "\r",
      "Epoch 20 iteration 2000 loss: 0.01\n",
      "[1.72851744556427, 1.7262043681740762, 1.7231687685847283, 1.715903261601925, 1.689072456419468, 1.5077092576175928, 0.18082507244870066, 0.0623973631169647, 0.05492405565455556, 0.04803256053104997, 0.04182822812348604, 0.03623597198352218, 0.031192358641885222, 0.02665089706145227, 0.022579247557558118, 0.018956803851760923, 0.015770363937132062, 0.013007067050319164, 0.010649605181999505, 0.00867262186226435]\n"
     ]
    },
    {
     "data": {
      "image/png": "[encoded data removed]",
      "text/plain": [
       "<Figure size 432x288 with 1 Axes>"
      ]
     },
     "metadata": {
      "needs_background": "light"
     },
     "output_type": "display_data"
    }
   ],
   "source": [
    "torch.manual_seed(0)\n",
    "\n",
    "sgd = False\n",
    "train = True\n",
    "\n",
    "if sgd:\n",
    "    model_path = \"./models/model_sgd_%s.pt\"%suffix\n",
    "    net = Net(d, epochs = 50)\n",
    "else:\n",
    "    model_path = \"./models/model_sgd_%s_O100_params.pt\"%suffix\n",
    "    net = Net(d, epochs = 20)\n",
    "    \n",
    "if train:\n",
    "    if torch.cuda.is_available():\n",
    "        device = torch.device(\"cuda:0\")\n",
    "        print(\"Running on GPU\")\n",
    "    net.to(device)\n",
    "    if sgd:\n",
    "        net.train_sgd(X, Y, 100000, lr = 1e-2)\n",
    "    else:\n",
    "        net.train_gd(X, Y, 2000, lr = 1e-3)\n",
    "    torch.save(net.state_dict(), model_path)"
   ]
  },
  {
   "cell_type": "code",
   "execution_count": 5,
   "metadata": {},
   "outputs": [
    {
     "name": "stdout",
     "output_type": "stream",
     "text": [
      "Overall loss: tensor(0.0016, grad_fn=<MseLossBackward>)\n",
      "-1.1929947137832642 -1.2289554403602838\n",
      "-0.08187440782785416 -0.13516816398732573\n",
      "-0.8887646198272705 -0.920158456466009\n",
      "0.19159135222434998 0.13974400340630586\n",
      "0.24176660180091858 0.2411133016681187\n",
      "[-1.2289554403602838, -0.13516816398732573, -0.920158456466009, 0.13974400340630586, 0.2411133016681187]\n"
     ]
    },
    {
     "data": {
      "image/png": "[encoded data removed]",
      "text/plain": [
       "<Figure size 432x288 with 1 Axes>"
      ]
     },
     "metadata": {
      "needs_background": "light"
     },
     "output_type": "display_data"
    },
    {
     "data": {
      "image/png": "[encoded data removed]",
      "text/plain": [
       "<Figure size 576x576 with 1 Axes>"
      ]
     },
     "metadata": {
      "needs_background": "light"
     },
     "output_type": "display_data"
    }
   ],
   "source": [
    "check_loss_landscape(model_path, X, Y, sgd=False)"
   ]
  },
  {
   "cell_type": "code",
   "execution_count": 8,
   "metadata": {},
   "outputs": [],
   "source": [
    "from pyhessian import hessian"
   ]
  },
  {
   "cell_type": "code",
   "execution_count": 11,
   "metadata": {},
   "outputs": [],
   "source": [
    "model = Net(d, categorical=False).cuda()\n",
    "model_state_dict_path = \"./models/model_sgd_%s_O100_params.pt\"%suffix\n",
    "model.load_state_dict(torch.load(model_state_dict_path))\n",
    "\n",
    "criterion = torch.nn.MSELoss(reduction=\"sum\")\n",
    "inputs = torch.from_numpy(X).to(device).float()\n",
    "targets = torch.from_numpy(Y).to(device).float()\n",
    "\n",
    "hessian_comp = hessian(model, criterion, data=(inputs, targets), cuda=True)"
   ]
  },
  {
   "cell_type": "code",
   "execution_count": 12,
   "metadata": {},
   "outputs": [],
   "source": [
    "top_eigenvalues, top_eigenvector = hessian_comp.eigenvalues()"
   ]
  },
  {
   "cell_type": "code",
   "execution_count": 14,
   "metadata": {},
   "outputs": [
    {
     "name": "stdout",
     "output_type": "stream",
     "text": [
      "The top Hessian eigenvalue of this model is 1997.6628\n",
      "The top two eigenvalues of this model are: 10.9887 1997.6625\n"
     ]
    }
   ],
   "source": [
    "print(\"The top Hessian eigenvalue of this model is %.4f\"%top_eigenvalues[-1])\n",
    "top_eigenvalues, top_eigenvector = hessian_comp.eigenvalues(top_n=2)\n",
    "print(\"The top two eigenvalues of this model are: %.4f %.4f\"% (top_eigenvalues[-1],top_eigenvalues[-2]))"
   ]
  },
  {
   "cell_type": "code",
   "execution_count": 15,
   "metadata": {},
   "outputs": [],
   "source": [
    "def get_params(model_orig,  model_perb, direction, alpha):\n",
    "    for m_orig, m_perb, d in zip(model_orig.parameters(), model_perb.parameters(), direction):\n",
    "        m_perb.data = m_orig.data + alpha * d\n",
    "    return model_perb"
   ]
  },
  {
   "cell_type": "code",
   "execution_count": 21,
   "metadata": {},
   "outputs": [
    {
     "data": {
      "text/plain": [
       "Text(0.5, 1.0, 'Loss landscape perturbed based on top Hessian eigenvector')"
      ]
     },
     "execution_count": 21,
     "metadata": {},
     "output_type": "execute_result"
    },
    {
     "data": {
      "image/png": "[encoded data removed]",
      "text/plain": [
       "<Figure size 432x288 with 1 Axes>"
      ]
     },
     "metadata": {
      "needs_background": "light"
     },
     "output_type": "display_data"
    }
   ],
   "source": [
    "# lambda is a small scalar that we use to perturb the model parameters along the eigenvectors \n",
    "lams = np.linspace(-0.5, 0.5, 21).astype(np.float32)\n",
    "\n",
    "loss_list = []\n",
    "\n",
    "# create a copy of the model\n",
    "model_perb = copy.deepcopy(model)\n",
    "model_perb.eval()\n",
    "model_perb = model_perb.cuda()\n",
    "\n",
    "for lam in lams:\n",
    "    model_perb = get_params(model, model_perb, top_eigenvector[0], lam)\n",
    "    loss_list.append(criterion(model_perb(inputs), targets).item())\n",
    "\n",
    "plt.plot(lams, loss_list)\n",
    "plt.ylabel('Loss')\n",
    "plt.xlabel('Perturbation')\n",
    "plt.title('Loss landscape perturbed based on top Hessian eigenvector')"
   ]
  },
  {
   "cell_type": "code",
   "execution_count": 22,
   "metadata": {},
   "outputs": [
    {
     "data": {
      "text/plain": [
       "Text(0.5, 1.0, 'Loss landscape perturbed based on a random direction')"
      ]
     },
     "execution_count": 22,
     "metadata": {},
     "output_type": "execute_result"
    },
    {
     "data": {
      "image/png": "[encoded data removed]",
      "text/plain": [
       "<Figure size 432x288 with 1 Axes>"
      ]
     },
     "metadata": {
      "needs_background": "light"
     },
     "output_type": "display_data"
    }
   ],
   "source": [
    "from pyhessian.utils import normalization\n",
    "\n",
    "# generate random vector to do the loss plot\n",
    "\n",
    "v = [torch.randn_like(p) for p in model.parameters()]\n",
    "v = normalization(v)\n",
    "\n",
    "\n",
    "# used to perturb your model \n",
    "lams = np.linspace(-0.5, 0.5, 21).astype(np.float32)\n",
    "\n",
    "loss_list = []\n",
    "\n",
    "# create a copy of the model\n",
    "model_perb = copy.deepcopy(model)\n",
    "model_perb.eval()\n",
    "model_perb = model_perb.cuda()\n",
    "\n",
    "for lam in lams: \n",
    "    model_perb = get_params(model, model_perb, v, lam)\n",
    "    loss_list.append(criterion(model_perb(inputs), targets).item())\n",
    "\n",
    "plt.plot(lams, loss_list)\n",
    "plt.ylabel('Loss')\n",
    "plt.xlabel('Perturbation')\n",
    "plt.title('Loss landscape perturbed based on a random direction')"
   ]
  },
  {
   "cell_type": "markdown",
   "metadata": {},
   "source": [
    "# old"
   ]
  },
  {
   "cell_type": "code",
   "execution_count": null,
   "metadata": {},
   "outputs": [],
   "source": [
    "net = Net(d, epochs = 20)"
   ]
  },
  {
   "cell_type": "code",
   "execution_count": null,
   "metadata": {},
   "outputs": [],
   "source": [
    "device = next(net.parameters()).device"
   ]
  },
  {
   "cell_type": "code",
   "execution_count": null,
   "metadata": {},
   "outputs": [],
   "source": [
    "X_cuda = torch.from_numpy(X).to(device)\n",
    "Y_cuda = torch.from_numpy(Y).to(device)"
   ]
  },
  {
   "cell_type": "code",
   "execution_count": null,
   "metadata": {},
   "outputs": [],
   "source": [
    "net.train_gd(X, Y, T=2000, lr=1e-03)"
   ]
  },
  {
   "cell_type": "code",
   "execution_count": null,
   "metadata": {},
   "outputs": [],
   "source": [
    "model_path = \"./models/model_%s.pt\"%suffix\n",
    "torch.save(net.state_dict(), model_path)"
   ]
  },
  {
   "cell_type": "code",
   "execution_count": null,
   "metadata": {},
   "outputs": [],
   "source": [
    "check_loss_landscape(model_path, X, Y)"
   ]
  },
  {
   "cell_type": "code",
   "execution_count": null,
   "metadata": {},
   "outputs": [],
   "source": []
  }
 ],
 "metadata": {
  "kernelspec": {
   "display_name": "Python 3",
   "language": "python",
   "name": "python3"
  },
  "language_info": {
   "codemirror_mode": {
    "name": "ipython",
    "version": 3
   },
   "file_extension": ".py",
   "mimetype": "text/x-python",
   "name": "python",
   "nbconvert_exporter": "python",
   "pygments_lexer": "ipython3",
   "version": "3.8.5"
  }
 },
 "nbformat": 4,
 "nbformat_minor": 4
}
