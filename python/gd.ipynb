{
 "cells": [
  {
   "cell_type": "code",
   "execution_count": 1,
   "metadata": {},
   "outputs": [],
   "source": [
    "%load_ext autoreload\n",
    "%autoreload 2"
   ]
  },
  {
   "cell_type": "code",
   "execution_count": 17,
   "metadata": {},
   "outputs": [],
   "source": [
    "from torch.nn import Softplus #smooth relu\n",
    "import torch.nn as nn\n",
    "import torch.nn.functional as F\n",
    "from utils import generate_polynomial_data\n",
    "import numpy as np\n",
    "import torch\n",
    "import torch.optim as optim\n",
    "from torch.nn import MSELoss\n",
    "from tqdm import tqdm\n",
    "\n",
    "from model import Net, check_loss_landscape\n",
    "\n",
    "import matplotlib.pyplot as plt"
   ]
  },
  {
   "cell_type": "code",
   "execution_count": 5,
   "metadata": {},
   "outputs": [
    {
     "name": "stderr",
     "output_type": "stream",
     "text": [
      " 35%|███▌      | 7/20 [00:00<00:00, 69.30it/s]"
     ]
    },
    {
     "name": "stdout",
     "output_type": "stream",
     "text": [
      "Generating Data...\n"
     ]
    },
    {
     "name": "stderr",
     "output_type": "stream",
     "text": [
      "100%|██████████| 20/20 [00:00<00:00, 70.16it/s]\n"
     ]
    }
   ],
   "source": [
    "torch.manual_seed(0)\n",
    "\n",
    "suffix = \"3\"\n",
    "\n",
    "n = 20\n",
    "d = 10000\n",
    "generate_data = True\n",
    "\n",
    "coeffs = np.random.rand(d, 1)\n",
    "xvals = np.random.rand(n)\n",
    "if generate_data:\n",
    "    print(\"Generating Data...\")\n",
    "    X, Y = generate_polynomial_data(coeffs, xvals)"
   ]
  },
  {
   "cell_type": "code",
   "execution_count": null,
   "metadata": {},
   "outputs": [],
   "source": [
    "with open(\"./datasets/X%s.npy\" %suffix, 'rb') as f:\n",
    "    X = np.load(f)\n",
    "with open(\"./datasets/Y%s.npy\" %suffix, 'rb') as f:\n",
    "    Y = np.load(f)\n",
    "with open(\"./datasets/coeffs%s.npy\" %suffix, 'rb') as f:\n",
    "    coeffs = np.load(f)"
   ]
  },
  {
   "cell_type": "code",
   "execution_count": 6,
   "metadata": {},
   "outputs": [
    {
     "name": "stdout",
     "output_type": "stream",
     "text": [
      "Running on GPU\n"
     ]
    },
    {
     "name": "stderr",
     "output_type": "stream",
     "text": [
      "\r",
      "  0%|          | 0/2000 [00:00<?, ?it/s]"
     ]
    },
    {
     "name": "stdout",
     "output_type": "stream",
     "text": [
      "Running on GPU\n"
     ]
    },
    {
     "name": "stderr",
     "output_type": "stream",
     "text": [
      "100%|██████████| 2000/2000 [00:16<00:00, 120.90it/s]\n",
      "  1%|          | 13/2000 [00:00<00:15, 127.96it/s]"
     ]
    },
    {
     "name": "stdout",
     "output_type": "stream",
     "text": [
      "\r",
      "Epoch 1 iteration 2000 loss: 559.93\n"
     ]
    },
    {
     "name": "stderr",
     "output_type": "stream",
     "text": [
      "100%|██████████| 2000/2000 [00:15<00:00, 126.05it/s]\n",
      "  1%|          | 13/2000 [00:00<00:15, 127.81it/s]"
     ]
    },
    {
     "name": "stdout",
     "output_type": "stream",
     "text": [
      "\r",
      "Epoch 2 iteration 2000 loss: 116.18\n"
     ]
    },
    {
     "name": "stderr",
     "output_type": "stream",
     "text": [
      "100%|██████████| 2000/2000 [00:15<00:00, 125.98it/s]\n",
      "  1%|          | 14/2000 [00:00<00:14, 137.11it/s]"
     ]
    },
    {
     "name": "stdout",
     "output_type": "stream",
     "text": [
      "\r",
      "Epoch 3 iteration 2000 loss: 116.18\n"
     ]
    },
    {
     "name": "stderr",
     "output_type": "stream",
     "text": [
      "100%|██████████| 2000/2000 [00:15<00:00, 125.24it/s]\n",
      "  1%|          | 12/2000 [00:00<00:16, 118.86it/s]"
     ]
    },
    {
     "name": "stdout",
     "output_type": "stream",
     "text": [
      "\r",
      "Epoch 4 iteration 2000 loss: 116.18\n"
     ]
    },
    {
     "name": "stderr",
     "output_type": "stream",
     "text": [
      "100%|██████████| 2000/2000 [00:16<00:00, 124.56it/s]\n",
      "  1%|          | 13/2000 [00:00<00:16, 123.18it/s]"
     ]
    },
    {
     "name": "stdout",
     "output_type": "stream",
     "text": [
      "\r",
      "Epoch 5 iteration 2000 loss: 116.18\n"
     ]
    },
    {
     "name": "stderr",
     "output_type": "stream",
     "text": [
      "100%|██████████| 2000/2000 [00:16<00:00, 124.36it/s]\n",
      "  1%|          | 13/2000 [00:00<00:15, 129.38it/s]"
     ]
    },
    {
     "name": "stdout",
     "output_type": "stream",
     "text": [
      "\r",
      "Epoch 6 iteration 2000 loss: 116.18\n"
     ]
    },
    {
     "name": "stderr",
     "output_type": "stream",
     "text": [
      "100%|██████████| 2000/2000 [00:15<00:00, 127.26it/s]\n",
      "  1%|          | 13/2000 [00:00<00:15, 126.75it/s]"
     ]
    },
    {
     "name": "stdout",
     "output_type": "stream",
     "text": [
      "\r",
      "Epoch 7 iteration 2000 loss: 116.18\n"
     ]
    },
    {
     "name": "stderr",
     "output_type": "stream",
     "text": [
      "100%|██████████| 2000/2000 [00:15<00:00, 126.50it/s]\n",
      "  1%|          | 13/2000 [00:00<00:15, 124.71it/s]"
     ]
    },
    {
     "name": "stdout",
     "output_type": "stream",
     "text": [
      "\r",
      "Epoch 8 iteration 2000 loss: 116.18\n"
     ]
    },
    {
     "name": "stderr",
     "output_type": "stream",
     "text": [
      "100%|██████████| 2000/2000 [00:16<00:00, 123.65it/s]\n",
      "  1%|          | 14/2000 [00:00<00:15, 132.31it/s]"
     ]
    },
    {
     "name": "stdout",
     "output_type": "stream",
     "text": [
      "\r",
      "Epoch 9 iteration 2000 loss: 116.18\n"
     ]
    },
    {
     "name": "stderr",
     "output_type": "stream",
     "text": [
      "100%|██████████| 2000/2000 [00:16<00:00, 124.68it/s]\n",
      "  1%|          | 13/2000 [00:00<00:16, 120.09it/s]"
     ]
    },
    {
     "name": "stdout",
     "output_type": "stream",
     "text": [
      "\r",
      "Epoch 10 iteration 2000 loss: 116.18\n"
     ]
    },
    {
     "name": "stderr",
     "output_type": "stream",
     "text": [
      "100%|██████████| 2000/2000 [00:16<00:00, 124.15it/s]\n",
      "  1%|          | 13/2000 [00:00<00:16, 123.51it/s]"
     ]
    },
    {
     "name": "stdout",
     "output_type": "stream",
     "text": [
      "\r",
      "Epoch 11 iteration 2000 loss: 116.18\n"
     ]
    },
    {
     "name": "stderr",
     "output_type": "stream",
     "text": [
      "100%|██████████| 2000/2000 [00:16<00:00, 124.56it/s]\n",
      "  1%|          | 14/2000 [00:00<00:14, 134.98it/s]"
     ]
    },
    {
     "name": "stdout",
     "output_type": "stream",
     "text": [
      "\r",
      "Epoch 12 iteration 2000 loss: 116.18\n"
     ]
    },
    {
     "name": "stderr",
     "output_type": "stream",
     "text": [
      "100%|██████████| 2000/2000 [00:15<00:00, 125.79it/s]\n",
      "  1%|          | 14/2000 [00:00<00:15, 130.85it/s]"
     ]
    },
    {
     "name": "stdout",
     "output_type": "stream",
     "text": [
      "\r",
      "Epoch 13 iteration 2000 loss: 116.18\n"
     ]
    },
    {
     "name": "stderr",
     "output_type": "stream",
     "text": [
      "100%|██████████| 2000/2000 [00:15<00:00, 125.66it/s]\n",
      "  1%|          | 13/2000 [00:00<00:16, 123.70it/s]"
     ]
    },
    {
     "name": "stdout",
     "output_type": "stream",
     "text": [
      "\r",
      "Epoch 14 iteration 2000 loss: 116.18\n"
     ]
    },
    {
     "name": "stderr",
     "output_type": "stream",
     "text": [
      "100%|██████████| 2000/2000 [00:15<00:00, 125.46it/s]\n",
      "  1%|          | 14/2000 [00:00<00:14, 134.44it/s]"
     ]
    },
    {
     "name": "stdout",
     "output_type": "stream",
     "text": [
      "\r",
      "Epoch 15 iteration 2000 loss: 116.18\n"
     ]
    },
    {
     "name": "stderr",
     "output_type": "stream",
     "text": [
      "100%|██████████| 2000/2000 [00:15<00:00, 126.73it/s]\n",
      "  1%|          | 13/2000 [00:00<00:15, 128.61it/s]"
     ]
    },
    {
     "name": "stdout",
     "output_type": "stream",
     "text": [
      "\r",
      "Epoch 16 iteration 2000 loss: 116.18\n"
     ]
    },
    {
     "name": "stderr",
     "output_type": "stream",
     "text": [
      "100%|██████████| 2000/2000 [00:15<00:00, 126.53it/s]\n",
      "  1%|          | 13/2000 [00:00<00:16, 124.18it/s]"
     ]
    },
    {
     "name": "stdout",
     "output_type": "stream",
     "text": [
      "\r",
      "Epoch 17 iteration 2000 loss: 116.18\n"
     ]
    },
    {
     "name": "stderr",
     "output_type": "stream",
     "text": [
      "100%|██████████| 2000/2000 [00:15<00:00, 125.61it/s]\n",
      "  1%|          | 15/2000 [00:00<00:13, 142.30it/s]"
     ]
    },
    {
     "name": "stdout",
     "output_type": "stream",
     "text": [
      "\r",
      "Epoch 18 iteration 2000 loss: 116.18\n"
     ]
    },
    {
     "name": "stderr",
     "output_type": "stream",
     "text": [
      "100%|██████████| 2000/2000 [00:16<00:00, 124.91it/s]\n",
      "  1%|          | 13/2000 [00:00<00:15, 126.43it/s]"
     ]
    },
    {
     "name": "stdout",
     "output_type": "stream",
     "text": [
      "\r",
      "Epoch 19 iteration 2000 loss: 116.18\n"
     ]
    },
    {
     "name": "stderr",
     "output_type": "stream",
     "text": [
      "100%|██████████| 2000/2000 [00:15<00:00, 125.32it/s]\n"
     ]
    },
    {
     "name": "stdout",
     "output_type": "stream",
     "text": [
      "\r",
      "Epoch 20 iteration 2000 loss: 116.18\n"
     ]
    },
    {
     "data": {
      "image/png": "[encoded data removed]",
      "text/plain": [
       "<Figure size 432x288 with 1 Axes>"
      ]
     },
     "metadata": {
      "needs_background": "light"
     },
     "output_type": "display_data"
    }
   ],
   "source": [
    "torch.manual_seed(0)\n",
    "\n",
    "sgd = False\n",
    "train = True\n",
    "\n",
    "if sgd:\n",
    "    model_path = \"./models/model_sgd_%s.pt\"%suffix\n",
    "    net = Net(d, epochs = 50)\n",
    "else:\n",
    "    model_path = \"./models/model_%s.pt\"%suffix\n",
    "    net = Net(d, epochs = 20)\n",
    "    \n",
    "if train:\n",
    "    if torch.cuda.is_available():\n",
    "        device = torch.device(\"cuda:0\")\n",
    "        print(\"Running on GPU\")\n",
    "    net.to(device)\n",
    "    if sgd:\n",
    "        net.train_sgd(X, Y, 100000, lr = 1e-2)\n",
    "    else:\n",
    "        net.train_gd(X, Y, 2000, lr = 1e-3)\n",
    "    torch.save(net.state_dict(), model_path)"
   ]
  },
  {
   "cell_type": "code",
   "execution_count": 7,
   "metadata": {},
   "outputs": [
    {
     "name": "stdout",
     "output_type": "stream",
     "text": [
      "Overall loss: tensor(5.8088, grad_fn=<MseLossBackward>)\n",
      "1.4559125900268555 0.6523781649029067\n",
      "1.4559125900268555 0.5759313577744388\n",
      "1.4559125900268555 0.6257936544009303\n",
      "1.4559125900268555 0.8724250038894449\n",
      "1.4559125900268555 0.6005784355674463\n",
      "1.4559125900268555 1.15699368488805\n",
      "1.4559125900268555 0.6541164546265261\n",
      "1.4559125900268555 0.5783095893345791\n",
      "1.4559125900268555 2.4151726140851357\n",
      "1.4559125900268555 0.9130819220570068\n",
      "1.4559125900268555 0.6294230707280632\n",
      "1.4559125900268555 0.9804405254987768\n",
      "1.4559125900268555 1.0135496345702681\n",
      "1.4559125900268555 11.804201309366842\n",
      "1.4559125900268555 0.7008728310980294\n",
      "1.4559125900268555 1.3960387208213403\n",
      "1.4559125900268555 1.2414139231117627\n",
      "1.4559125900268555 0.7540137588935736\n",
      "1.4559125900268555 0.6181465284684335\n",
      "1.4559125900268555 0.9354000764729087\n",
      "Epoch 18 iteration 2000 loss: 1255.26\n"
     ]
    },
    {
     "name": "stderr",
     "output_type": "stream",
     "text": [
      "100%|██████████| 2000/2000 [07:41<00:00,  4.34it/s]\n",
      "  0%|          | 0/2000 [00:00<?, ?it/s]"
     ]
    },
    {
     "name": "stdout",
     "output_type": "stream",
     "text": [
      "\r",
      "Epoch 19 iteration 2000 loss: 1255.26\n"
     ]
    },
    {
     "name": "stderr",
     "output_type": "stream",
     "text": [
      "100%|██████████| 2000/2000 [07:41<00:00,  4.34it/s]"
     ]
    },
    {
     "name": "stdout",
     "output_type": "stream",
     "text": [
      "\r",
      "Epoch 20 iteration 2000 loss: 1255.26\n"
     ]
    },
    {
     "name": "stderr",
     "output_type": "stream",
     "text": [
      "\n"
     ]
    },
    {
     "data": {
      "image/png": "[encoded data removed]",
      "text/plain": [
       "<Figure size 432x288 with 1 Axes>"
      ]
     },
     "metadata": {
      "needs_background": "light"
     },
     "output_type": "display_data"
    }
   ],
   "source": [
    "check_loss_landscape(model_path, X, Y, sgd=True)"
   ]
  },
  {
   "cell_type": "code",
   "execution_count": 60,
   "metadata": {},
   "outputs": [
    {
     "name": "stdout",
     "output_type": "stream",
     "text": [
      "Overall loss: tensor(5.8088, grad_fn=<MseLossBackward>)\n",
      "1.4559125900268555 0.6523781649029067\n",
      "1.4559125900268555 0.5759313577744388\n",
      "1.4559125900268555 0.6257936544009303\n",
      "1.4559125900268555 0.8724250038894449\n",
      "1.4559125900268555 0.6005784355674463\n",
      "1.4559125900268555 1.15699368488805\n",
      "1.4559125900268555 0.6541164546265261\n",
      "1.4559125900268555 0.5783095893345791\n",
      "1.4559125900268555 2.4151726140851357\n",
      "1.4559125900268555 0.9130819220570068\n",
      "1.4559125900268555 0.6294230707280632\n",
      "1.4559125900268555 0.9804405254987768\n",
      "1.4559125900268555 1.0135496345702681\n",
      "1.4559125900268555 11.804201309366842\n",
      "1.4559125900268555 0.7008728310980294\n",
      "1.4559125900268555 1.3960387208213403\n",
      "1.4559125900268555 1.2414139231117627\n",
      "1.4559125900268555 0.7540137588935736\n",
      "1.4559125900268555 0.6181465284684335\n",
      "1.4559125900268555 0.9354000764729087\n",
      "[0.6523781649029067, 0.5759313577744388, 0.6257936544009303, 0.8724250038894449, 0.6005784355674463, 1.15699368488805, 0.6541164546265261, 0.5783095893345791, 2.4151726140851357, 0.9130819220570068, 0.6294230707280632, 0.9804405254987768, 1.0135496345702681, 11.804201309366842, 0.7008728310980294, 1.3960387208213403, 1.2414139231117627, 0.7540137588935736, 0.6181465284684335, 0.9354000764729087]\n"
     ]
    },
    {
     "data": {
      "image/png": "[encoded data removed]",
      "text/plain": [
       "<Figure size 432x288 with 1 Axes>"
      ]
     },
     "metadata": {
      "needs_background": "light"
     },
     "output_type": "display_data"
    },
    {
     "data": {
      "image/png": "[encoded data removed]",
      "text/plain": [
       "<Figure size 1080x1080 with 1 Axes>"
      ]
     },
     "metadata": {
      "needs_background": "light"
     },
     "output_type": "display_data"
    }
   ],
   "source": [
    "check_loss_landscape(model_path, X, Y, sgd=False)"
   ]
  },
  {
   "cell_type": "markdown",
   "metadata": {},
   "source": [
    "# old"
   ]
  },
  {
   "cell_type": "code",
   "execution_count": null,
   "metadata": {},
   "outputs": [],
   "source": [
    "net = Net(d, epochs = 20)"
   ]
  },
  {
   "cell_type": "code",
   "execution_count": null,
   "metadata": {},
   "outputs": [],
   "source": [
    "device = next(net.parameters()).device"
   ]
  },
  {
   "cell_type": "code",
   "execution_count": null,
   "metadata": {},
   "outputs": [],
   "source": [
    "X_cuda = torch.from_numpy(X).to(device)\n",
    "Y_cuda = torch.from_numpy(Y).to(device)"
   ]
  },
  {
   "cell_type": "code",
   "execution_count": null,
   "metadata": {},
   "outputs": [],
   "source": [
    "net.train_gd(X, Y, T=2000, lr=1e-03)"
   ]
  },
  {
   "cell_type": "code",
   "execution_count": 33,
   "metadata": {},
   "outputs": [
    {
     "name": "stderr",
     "output_type": "stream",
     "text": [
      "[autoreload of model failed: Traceback (most recent call last):\n",
      "  File \"/home/cwang506/.conda/envs/torch-env/lib/python3.8/site-packages/IPython/extensions/autoreload.py\", line 245, in check\n",
      "    superreload(m, reload, self.old_objects)\n",
      "  File \"/home/cwang506/.conda/envs/torch-env/lib/python3.8/site-packages/IPython/extensions/autoreload.py\", line 394, in superreload\n",
      "    module = reload(module)\n",
      "  File \"/home/cwang506/.conda/envs/torch-env/lib/python3.8/imp.py\", line 314, in reload\n",
      "    return importlib.reload(module)\n",
      "  File \"/home/cwang506/.conda/envs/torch-env/lib/python3.8/importlib/__init__.py\", line 169, in reload\n",
      "    _bootstrap._exec(spec, module)\n",
      "  File \"<frozen importlib._bootstrap>\", line 604, in _exec\n",
      "  File \"<frozen importlib._bootstrap_external>\", line 779, in exec_module\n",
      "  File \"<frozen importlib._bootstrap_external>\", line 916, in get_code\n",
      "  File \"<frozen importlib._bootstrap_external>\", line 846, in source_to_code\n",
      "  File \"<frozen importlib._bootstrap>\", line 219, in _call_with_frames_removed\n",
      "  File \"/home/cwang506/sgd_loss/python/model.py\", line 36\n",
      "    def my_plot(self, epochs, loss, sgd=True, loss = \"Squared Error\"):\n",
      "    ^\n",
      "SyntaxError: duplicate argument 'loss' in function definition\n",
      "]\n"
     ]
    }
   ],
   "source": [
    "model_path = \"./models/model_%s.pt\"%suffix\n",
    "torch.save(net.state_dict(), model_path)"
   ]
  },
  {
   "cell_type": "code",
   "execution_count": 34,
   "metadata": {},
   "outputs": [
    {
     "name": "stdout",
     "output_type": "stream",
     "text": [
      "Overall loss: tensor(62.7630, grad_fn=<MseLossBackward>)\n",
      "4.275935173034668 1.395673058120217\n",
      "4.275935173034668 0.5092175232967956\n",
      "4.275935173034668 1.0342934638919727\n",
      "4.275935173034668 2.6966071763222557\n",
      "4.275935173034668 4.212777224784648\n",
      "4.275935173034668 0.48522481051099375\n",
      "4.275935173034668 27.427003793125827\n",
      "4.275935173034668 1.2415786593346545\n",
      "4.275935173034668 0.5185361704513592\n",
      "4.275935173034668 0.7549449502833208\n",
      "4.275935173034668 0.510679244602981\n",
      "4.275935173034668 6.364185597174342\n",
      "4.275935173034668 27.85730795019833\n",
      "4.275935173034668 0.4873869363326762\n",
      "4.275935173034668 0.4771608283215414\n",
      "4.275935173034668 1.5666525496287127\n",
      "4.275935173034668 2.143945347008627\n",
      "4.275935173034668 2.7660091615553464\n",
      "4.275935173034668 0.7902474529950809\n",
      "4.275935173034668 2.279385803933053\n"
     ]
    }
   ],
   "source": [
    "check_loss_landscape(model_path, X, Y)"
   ]
  },
  {
   "cell_type": "code",
   "execution_count": null,
   "metadata": {},
   "outputs": [],
   "source": []
  }
 ],
 "metadata": {
  "kernelspec": {
   "display_name": "Python 3",
   "language": "python",
   "name": "python3"
  },
  "language_info": {
   "codemirror_mode": {
    "name": "ipython",
    "version": 3
   },
   "file_extension": ".py",
   "mimetype": "text/x-python",
   "name": "python",
   "nbconvert_exporter": "python",
   "pygments_lexer": "ipython3",
   "version": "3.6.11"
  }
 },
 "nbformat": 4,
 "nbformat_minor": 4
}
