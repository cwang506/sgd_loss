{
 "cells": [
  {
   "cell_type": "code",
   "execution_count": 1,
   "metadata": {},
   "outputs": [],
   "source": [
    "%load_ext autoreload\n",
    "%autoreload 2"
   ]
  },
  {
   "cell_type": "code",
   "execution_count": 2,
   "metadata": {},
   "outputs": [
    {
     "name": "stderr",
     "output_type": "stream",
     "text": [
      "/afs/csail.mit.edu/u/m/melango/.conda/envs/p3t14/lib/python3.6/site-packages/torch/nn/_reduction.py:43: UserWarning: size_average and reduce args will be deprecated, please use reduction='mean' instead.\n",
      "  warnings.warn(warning.format(ret))\n"
     ]
    }
   ],
   "source": [
    "from torch.nn import Softplus #smooth relu\n",
    "import torch.nn as nn\n",
    "import torch.nn.functional as F\n",
    "from utils import generate_polynomial_data\n",
    "import numpy as np\n",
    "import torch\n",
    "import torch.optim as optim\n",
    "from torch.nn import MSELoss, BCELoss\n",
    "from tqdm import tqdm\n",
    "import pickle\n",
    "from model import Net, check_loss_landscape\n",
    "\n",
    "import matplotlib.pyplot as plt"
   ]
  },
  {
   "cell_type": "code",
   "execution_count": 3,
   "metadata": {},
   "outputs": [],
   "source": [
    "torch.manual_seed(0)\n",
    "suffix = \"1\"\n",
    "\n",
    "n = 20\n",
    "d = 10000\n",
    "generate_data = False\n",
    "usepickle = True\n",
    "\n",
    "coeffs = -1+2*np.random.rand(d, 1)\n",
    "xvals = -1+2*np.random.rand(n)\n",
    "fileend = \".pickle\" if usepickle else \".npy\"\n",
    "\n",
    "if generate_data:\n",
    "    print(\"Generating Data...\")\n",
    "    X, Y = generate_polynomial_data(coeffs, xvals)\n",
    "    #make categorical\n",
    "    inds_pos = np.where(Y>0)\n",
    "    inds_neg = np.where(Y<=0)\n",
    "#     print(Y)\n",
    "    Y[inds_pos] = 1\n",
    "    Y[inds_neg] = 0\n",
    "    with open(\"./datasets/X_categorical_%s%s\" %((\"pickle_\" if usepickle else \"\"), sufix)+fileend, \"wb\") as f:\n",
    "        if usepickle:\n",
    "            pickle.dump(X, f)\n",
    "        else:\n",
    "            np.save(f, X)\n",
    "    with open(\"./datasets/Y_categorical_%s%s\" %((\"pickle_\" if usepickle else \"\"),suffix) + fileend, \"wb\") as f:\n",
    "        if usepickle:\n",
    "            pickle.dump(Y, f)\n",
    "        else:\n",
    "            np.save(f, Y)\n",
    "    with open(\"./datasets/coeffs_categorical_%s%s\" %((\"pickle_\" if usepickle else \"\"),suffix) + fileend, \"wb\") as f:\n",
    "        if usepickle:\n",
    "            pickle.dump(coeffs, f)\n",
    "        else:\n",
    "            np.save(f, coeffs)\n",
    "    \n",
    "else:\n",
    "    with open(\"./datasets/X_categorical_%s%s\" %((\"pickle_\" if usepickle else \"\"),suffix) + fileend, \"rb\") as f:\n",
    "        if usepickle:\n",
    "            X = pickle.load(f)\n",
    "        else:\n",
    "            X = np.load(f)\n",
    "    with open(\"./datasets/Y_categorical_%s%s\" %((\"pickle_\" if usepickle else \"\"),suffix) + fileend, \"rb\") as f:\n",
    "        if usepickle:\n",
    "            Y = pickle.load(f)\n",
    "        else:\n",
    "            Y = np.load(f)\n",
    "    with open(\"./datasets/coeffs_categorical_%s%s\" %((\"pickle_\" if usepickle else \"\"),suffix) + fileend, \"rb\") as f:\n",
    "        if usepickle:\n",
    "            coeffs = pickle.load(f)\n",
    "        else:\n",
    "            coeffs = np.load(f)"
   ]
  },
  {
   "cell_type": "code",
   "execution_count": 4,
   "metadata": {},
   "outputs": [],
   "source": [
    "#subsample to get 50/50 split\n",
    "inds_pos = np.where(Y==1)[0]\n",
    "inds_neg = np.where(Y==0)[0]\n",
    "pos = np.random.choice(inds_pos, size=int(20/2))\n",
    "neg = np.random.choice(inds_neg, size=int(20/2))\n",
    "data_inds = np.concatenate([pos, neg])\n",
    "data_inds.sort()\n",
    "X, Y = X[data_inds], Y[data_inds]"
   ]
  },
  {
   "cell_type": "code",
   "execution_count": 6,
   "metadata": {},
   "outputs": [
    {
     "name": "stderr",
     "output_type": "stream",
     "text": [
      "\r",
      "  0%|          | 0/50 [00:00<?, ?it/s]"
     ]
    },
    {
     "name": "stdout",
     "output_type": "stream",
     "text": [
      "Running on CPU\n",
      "0.01\n",
      "epoch: 0\\epochLoss =  0.701"
     ]
    },
    {
     "name": "stderr",
     "output_type": "stream",
     "text": [
      "\r",
      "  2%|▏         | 1/50 [02:05<1:42:06, 125.04s/it]"
     ]
    },
    {
     "name": "stdout",
     "output_type": "stream",
     "text": [
      "epoch: 0\\epochLoss =  0.6970.008\n",
      "epoch: 1\\epochLoss =  0.692"
     ]
    },
    {
     "name": "stderr",
     "output_type": "stream",
     "text": [
      "\r",
      "  4%|▍         | 2/50 [04:11<1:40:29, 125.61s/it]"
     ]
    },
    {
     "name": "stdout",
     "output_type": "stream",
     "text": [
      "epoch: 1\\epochLoss =  0.6970.0064\n",
      "epoch: 2\\epochLoss =  0.683"
     ]
    },
    {
     "name": "stderr",
     "output_type": "stream",
     "text": [
      "\r",
      "  6%|▌         | 3/50 [06:19<1:38:47, 126.12s/it]"
     ]
    },
    {
     "name": "stdout",
     "output_type": "stream",
     "text": [
      "epoch: 2\\epochLoss =  0.6980.00512\n",
      "epoch: 3\\epochLoss =  0.722"
     ]
    },
    {
     "name": "stderr",
     "output_type": "stream",
     "text": [
      "\r",
      "  8%|▊         | 4/50 [08:23<1:36:14, 125.54s/it]"
     ]
    },
    {
     "name": "stdout",
     "output_type": "stream",
     "text": [
      "epoch: 3\\epochLoss =  0.7180.004096000000000001\n",
      "epoch: 4\\epochLoss =  0.699"
     ]
    },
    {
     "name": "stderr",
     "output_type": "stream",
     "text": [
      "\r",
      " 10%|█         | 5/50 [10:27<1:33:43, 124.97s/it]"
     ]
    },
    {
     "name": "stdout",
     "output_type": "stream",
     "text": [
      "epoch: 4\\epochLoss =  0.7060.0032768000000000007\n",
      "epoch: 5\\epochLoss =  0.722"
     ]
    },
    {
     "name": "stderr",
     "output_type": "stream",
     "text": [
      "\r",
      " 12%|█▏        | 6/50 [12:29<1:31:01, 124.13s/it]"
     ]
    },
    {
     "name": "stdout",
     "output_type": "stream",
     "text": [
      "epoch: 5\\epochLoss =  0.7250.002621440000000001\n",
      "epoch: 6\\epochLoss =  0.699"
     ]
    },
    {
     "name": "stderr",
     "output_type": "stream",
     "text": [
      "\r",
      " 14%|█▍        | 7/50 [14:29<1:28:09, 123.01s/it]"
     ]
    },
    {
     "name": "stdout",
     "output_type": "stream",
     "text": [
      "epoch: 6\\epochLoss =  0.6950.002097152000000001\n",
      "epoch: 7\\epochLoss =  0.703"
     ]
    },
    {
     "name": "stderr",
     "output_type": "stream",
     "text": [
      "\r",
      " 16%|█▌        | 8/50 [16:31<1:25:46, 122.54s/it]"
     ]
    },
    {
     "name": "stdout",
     "output_type": "stream",
     "text": [
      "epoch: 7\\epochLoss =  0.6820.001677721600000001\n",
      "epoch: 8\\epochLoss =  0.709"
     ]
    },
    {
     "name": "stderr",
     "output_type": "stream",
     "text": [
      "\r",
      " 18%|█▊        | 9/50 [18:33<1:23:42, 122.50s/it]"
     ]
    },
    {
     "name": "stdout",
     "output_type": "stream",
     "text": [
      "epoch: 8\\epochLoss =  0.7100.0013421772800000008\n",
      "epoch: 9\\epochLoss =  0.702"
     ]
    },
    {
     "name": "stderr",
     "output_type": "stream",
     "text": [
      "\r",
      " 20%|██        | 10/50 [20:36<1:21:40, 122.52s/it]"
     ]
    },
    {
     "name": "stdout",
     "output_type": "stream",
     "text": [
      "epoch: 9\\epochLoss =  0.7030.0010737418240000006\n",
      "epoch: 10\\epochLoss =  0.681"
     ]
    },
    {
     "name": "stderr",
     "output_type": "stream",
     "text": [
      "\r",
      " 22%|██▏       | 11/50 [22:35<1:19:00, 121.55s/it]"
     ]
    },
    {
     "name": "stdout",
     "output_type": "stream",
     "text": [
      "epoch: 10\\epochLoss =  0.7020.0008589934592000006\n",
      "epoch: 11\\epochLoss =  0.704"
     ]
    },
    {
     "name": "stderr",
     "output_type": "stream",
     "text": [
      "\r",
      " 24%|██▍       | 12/50 [24:35<1:16:42, 121.12s/it]"
     ]
    },
    {
     "name": "stdout",
     "output_type": "stream",
     "text": [
      "epoch: 11\\epochLoss =  0.6800.0006871947673600005\n",
      "epoch: 12\\epochLoss =  0.690"
     ]
    },
    {
     "name": "stderr",
     "output_type": "stream",
     "text": [
      "\r",
      " 26%|██▌       | 13/50 [26:36<1:14:35, 120.96s/it]"
     ]
    },
    {
     "name": "stdout",
     "output_type": "stream",
     "text": [
      "epoch: 12\\epochLoss =  0.6960.0005497558138880005\n",
      "epoch: 13\\epochLoss =  0.696"
     ]
    },
    {
     "name": "stderr",
     "output_type": "stream",
     "text": [
      "\r",
      " 28%|██▊       | 14/50 [28:34<1:12:11, 120.33s/it]"
     ]
    },
    {
     "name": "stdout",
     "output_type": "stream",
     "text": [
      "epoch: 13\\epochLoss =  0.6900.0004398046511104004\n",
      "epoch: 14\\epochLoss =  0.675"
     ]
    },
    {
     "name": "stderr",
     "output_type": "stream",
     "text": [
      "\r",
      " 30%|███       | 15/50 [30:37<1:10:32, 120.92s/it]"
     ]
    },
    {
     "name": "stdout",
     "output_type": "stream",
     "text": [
      "epoch: 14\\epochLoss =  0.7110.00035184372088832035\n",
      "epoch: 15\\epochLoss =  0.694"
     ]
    },
    {
     "name": "stderr",
     "output_type": "stream",
     "text": [
      "\r",
      " 32%|███▏      | 16/50 [32:33<1:07:42, 119.48s/it]"
     ]
    },
    {
     "name": "stdout",
     "output_type": "stream",
     "text": [
      "epoch: 15\\epochLoss =  0.6940.0002814749767106563\n",
      "epoch: 16\\epochLoss =  0.679"
     ]
    },
    {
     "name": "stderr",
     "output_type": "stream",
     "text": [
      "\r",
      " 34%|███▍      | 17/50 [34:25<1:04:32, 117.35s/it]"
     ]
    },
    {
     "name": "stdout",
     "output_type": "stream",
     "text": [
      "epoch: 16\\epochLoss =  0.7060.00022517998136852504\n",
      "epoch: 17\\epochLoss =  0.690"
     ]
    },
    {
     "name": "stderr",
     "output_type": "stream",
     "text": [
      "\r",
      " 36%|███▌      | 18/50 [36:11<1:00:45, 113.93s/it]"
     ]
    },
    {
     "name": "stdout",
     "output_type": "stream",
     "text": [
      "epoch: 17\\epochLoss =  0.6890.00018014398509482005\n",
      "epoch: 18\\epochLoss =  0.689"
     ]
    },
    {
     "name": "stderr",
     "output_type": "stream",
     "text": [
      "\r",
      " 38%|███▊      | 19/50 [38:00<58:03, 112.37s/it]  "
     ]
    },
    {
     "name": "stdout",
     "output_type": "stream",
     "text": [
      "0.00014411518807585605\n",
      "epoch: 19\\epochLoss =  0.690"
     ]
    },
    {
     "name": "stderr",
     "output_type": "stream",
     "text": [
      "\r",
      " 40%|████      | 20/50 [39:48<55:35, 111.19s/it]"
     ]
    },
    {
     "name": "stdout",
     "output_type": "stream",
     "text": [
      "epoch: 19\\epochLoss =  0.6950.00011529215046068484\n",
      "epoch: 20\\epochLoss =  0.692"
     ]
    },
    {
     "name": "stderr",
     "output_type": "stream",
     "text": [
      "\r",
      " 42%|████▏     | 21/50 [41:39<53:41, 111.08s/it]"
     ]
    },
    {
     "name": "stdout",
     "output_type": "stream",
     "text": [
      "epoch: 20\\epochLoss =  0.6949.223372036854788e-05\n",
      "epoch: 21\\epochLoss =  0.694"
     ]
    },
    {
     "name": "stderr",
     "output_type": "stream",
     "text": [
      "\r",
      " 44%|████▍     | 22/50 [43:28<51:28, 110.31s/it]"
     ]
    },
    {
     "name": "stdout",
     "output_type": "stream",
     "text": [
      "epoch: 21\\epochLoss =  0.6947.378697629483831e-05\n",
      "epoch: 22\\epochLoss =  0.694"
     ]
    },
    {
     "name": "stderr",
     "output_type": "stream",
     "text": [
      "\r",
      " 46%|████▌     | 23/50 [45:19<49:42, 110.46s/it]"
     ]
    },
    {
     "name": "stdout",
     "output_type": "stream",
     "text": [
      "epoch: 22\\epochLoss =  0.6915.902958103587065e-05\n",
      "epoch: 23\\epochLoss =  0.687"
     ]
    },
    {
     "name": "stderr",
     "output_type": "stream",
     "text": [
      "\r",
      " 48%|████▊     | 24/50 [47:08<47:41, 110.05s/it]"
     ]
    },
    {
     "name": "stdout",
     "output_type": "stream",
     "text": [
      "epoch: 23\\epochLoss =  0.6854.722366482869652e-05\n",
      "epoch: 24\\epochLoss =  0.697"
     ]
    },
    {
     "name": "stderr",
     "output_type": "stream",
     "text": [
      "\r",
      " 50%|█████     | 25/50 [48:56<45:36, 109.46s/it]"
     ]
    },
    {
     "name": "stdout",
     "output_type": "stream",
     "text": [
      "epoch: 24\\epochLoss =  0.6973.777893186295722e-05\n",
      "epoch: 25\\epochLoss =  0.694"
     ]
    },
    {
     "name": "stderr",
     "output_type": "stream",
     "text": [
      "\r",
      " 52%|█████▏    | 26/50 [50:44<43:36, 109.03s/it]"
     ]
    },
    {
     "name": "stdout",
     "output_type": "stream",
     "text": [
      "epoch: 25\\epochLoss =  0.6913.0223145490365776e-05\n",
      "epoch: 26\\epochLoss =  0.690"
     ]
    },
    {
     "name": "stderr",
     "output_type": "stream",
     "text": [
      "\r",
      " 54%|█████▍    | 27/50 [52:31<41:33, 108.42s/it]"
     ]
    },
    {
     "name": "stdout",
     "output_type": "stream",
     "text": [
      "epoch: 26\\epochLoss =  0.6952.4178516392292623e-05\n",
      "epoch: 27\\epochLoss =  0.694"
     ]
    },
    {
     "name": "stderr",
     "output_type": "stream",
     "text": [
      "\r",
      " 56%|█████▌    | 28/50 [54:20<39:50, 108.64s/it]"
     ]
    },
    {
     "name": "stdout",
     "output_type": "stream",
     "text": [
      "epoch: 27\\epochLoss =  0.6941.93428131138341e-05\n",
      "epoch: 28\\epochLoss =  0.693"
     ]
    },
    {
     "name": "stderr",
     "output_type": "stream",
     "text": [
      "\r",
      " 58%|█████▊    | 29/50 [56:12<38:26, 109.83s/it]"
     ]
    },
    {
     "name": "stdout",
     "output_type": "stream",
     "text": [
      "epoch: 28\\epochLoss =  0.6921.547425049106728e-05\n",
      "epoch: 29\\epochLoss =  0.693"
     ]
    },
    {
     "name": "stderr",
     "output_type": "stream",
     "text": [
      "\r",
      " 60%|██████    | 30/50 [57:57<36:07, 108.36s/it]"
     ]
    },
    {
     "name": "stdout",
     "output_type": "stream",
     "text": [
      "epoch: 29\\epochLoss =  0.6931.2379400392853824e-05\n",
      "epoch: 30\\epochLoss =  0.693"
     ]
    },
    {
     "name": "stderr",
     "output_type": "stream",
     "text": [
      "\r",
      " 62%|██████▏   | 31/50 [59:48<34:33, 109.12s/it]"
     ]
    },
    {
     "name": "stdout",
     "output_type": "stream",
     "text": [
      "epoch: 30\\epochLoss =  0.6939.90352031428306e-06\n",
      "epoch: 31\\epochLoss =  0.693"
     ]
    },
    {
     "name": "stderr",
     "output_type": "stream",
     "text": [
      "\r",
      " 64%|██████▍   | 32/50 [1:01:37<32:43, 109.06s/it]"
     ]
    },
    {
     "name": "stdout",
     "output_type": "stream",
     "text": [
      "epoch: 31\\epochLoss =  0.6937.922816251426448e-06\n",
      "epoch: 32\\epochLoss =  0.690"
     ]
    },
    {
     "name": "stderr",
     "output_type": "stream",
     "text": [
      "\r",
      " 66%|██████▌   | 33/50 [1:03:28<31:04, 109.65s/it]"
     ]
    },
    {
     "name": "stdout",
     "output_type": "stream",
     "text": [
      "epoch: 32\\epochLoss =  0.6936.338253001141159e-06\n",
      "epoch: 33\\epochLoss =  0.693"
     ]
    },
    {
     "name": "stderr",
     "output_type": "stream",
     "text": [
      "\r",
      " 68%|██████▊   | 34/50 [1:05:19<29:18, 109.88s/it]"
     ]
    },
    {
     "name": "stdout",
     "output_type": "stream",
     "text": [
      "epoch: 33\\epochLoss =  0.6935.0706024009129275e-06\n",
      "epoch: 34\\epochLoss =  0.690"
     ]
    },
    {
     "name": "stderr",
     "output_type": "stream",
     "text": [
      "\r",
      " 70%|███████   | 35/50 [1:07:06<27:17, 109.17s/it]"
     ]
    },
    {
     "name": "stdout",
     "output_type": "stream",
     "text": [
      "epoch: 34\\epochLoss =  0.6924.056481920730342e-06\n",
      "epoch: 35\\epochLoss =  0.692"
     ]
    },
    {
     "name": "stderr",
     "output_type": "stream",
     "text": [
      "\r",
      " 72%|███████▏  | 36/50 [1:08:55<25:28, 109.21s/it]"
     ]
    },
    {
     "name": "stdout",
     "output_type": "stream",
     "text": [
      "epoch: 35\\epochLoss =  0.6933.245185536584274e-06\n",
      "epoch: 36\\epochLoss =  0.693"
     ]
    },
    {
     "name": "stderr",
     "output_type": "stream",
     "text": [
      "\r",
      " 74%|███████▍  | 37/50 [1:10:44<23:37, 109.00s/it]"
     ]
    },
    {
     "name": "stdout",
     "output_type": "stream",
     "text": [
      "epoch: 36\\epochLoss =  0.6932.596148429267419e-06\n",
      "epoch: 37\\epochLoss =  0.693"
     ]
    },
    {
     "name": "stderr",
     "output_type": "stream",
     "text": [
      "\r",
      " 76%|███████▌  | 38/50 [1:12:33<21:46, 108.86s/it]"
     ]
    },
    {
     "name": "stdout",
     "output_type": "stream",
     "text": [
      "epoch: 37\\epochLoss =  0.6932.0769187434139356e-06\n",
      "epoch: 38\\epochLoss =  0.693"
     ]
    },
    {
     "name": "stderr",
     "output_type": "stream",
     "text": [
      "\r",
      " 78%|███████▊  | 39/50 [1:14:20<19:51, 108.30s/it]"
     ]
    },
    {
     "name": "stdout",
     "output_type": "stream",
     "text": [
      "epoch: 38\\epochLoss =  0.6931.6615349947311485e-06\n",
      "epoch: 39\\epochLoss =  0.693"
     ]
    },
    {
     "name": "stderr",
     "output_type": "stream",
     "text": [
      "\r",
      " 80%|████████  | 40/50 [1:16:05<17:54, 107.48s/it]"
     ]
    },
    {
     "name": "stdout",
     "output_type": "stream",
     "text": [
      "epoch: 39\\epochLoss =  0.6931.3292279957849189e-06\n",
      "epoch: 40\\epochLoss =  0.693"
     ]
    },
    {
     "name": "stderr",
     "output_type": "stream",
     "text": [
      "\r",
      " 82%|████████▏ | 41/50 [1:17:55<16:13, 108.17s/it]"
     ]
    },
    {
     "name": "stdout",
     "output_type": "stream",
     "text": [
      "epoch: 40\\epochLoss =  0.6931.0633823966279351e-06\n",
      "epoch: 41\\epochLoss =  0.693"
     ]
    },
    {
     "name": "stderr",
     "output_type": "stream",
     "text": [
      "\r",
      " 84%|████████▍ | 42/50 [1:19:44<14:27, 108.46s/it]"
     ]
    },
    {
     "name": "stdout",
     "output_type": "stream",
     "text": [
      "epoch: 41\\epochLoss =  0.6928.507059173023481e-07\n",
      "epoch: 42\\epochLoss =  0.693"
     ]
    },
    {
     "name": "stderr",
     "output_type": "stream",
     "text": [
      "\r",
      " 86%|████████▌ | 43/50 [1:21:31<12:35, 107.98s/it]"
     ]
    },
    {
     "name": "stdout",
     "output_type": "stream",
     "text": [
      "epoch: 42\\epochLoss =  0.6936.805647338418785e-07\n",
      "epoch: 43\\epochLoss =  0.693"
     ]
    },
    {
     "name": "stderr",
     "output_type": "stream",
     "text": [
      "\r",
      " 88%|████████▊ | 44/50 [1:23:18<10:46, 107.78s/it]"
     ]
    },
    {
     "name": "stdout",
     "output_type": "stream",
     "text": [
      "epoch: 43\\epochLoss =  0.6935.444517870735028e-07\n",
      "epoch: 44\\epochLoss =  0.693"
     ]
    },
    {
     "name": "stderr",
     "output_type": "stream",
     "text": [
      "\r",
      " 90%|█████████ | 45/50 [1:25:05<08:57, 107.59s/it]"
     ]
    },
    {
     "name": "stdout",
     "output_type": "stream",
     "text": [
      "epoch: 44\\epochLoss =  0.6934.355614296588023e-07\n",
      "epoch: 45\\epochLoss =  0.692"
     ]
    },
    {
     "name": "stderr",
     "output_type": "stream",
     "text": [
      "\r",
      " 92%|█████████▏| 46/50 [1:26:54<07:11, 107.97s/it]"
     ]
    },
    {
     "name": "stdout",
     "output_type": "stream",
     "text": [
      "epoch: 45\\epochLoss =  0.6933.484491437270418e-07\n",
      "epoch: 46\\epochLoss =  0.693"
     ]
    },
    {
     "name": "stderr",
     "output_type": "stream",
     "text": [
      "\r",
      " 94%|█████████▍| 47/50 [1:28:42<05:23, 107.79s/it]"
     ]
    },
    {
     "name": "stdout",
     "output_type": "stream",
     "text": [
      "epoch: 46\\epochLoss =  0.6932.7875931498163346e-07\n",
      "epoch: 47\\epochLoss =  0.693"
     ]
    },
    {
     "name": "stderr",
     "output_type": "stream",
     "text": [
      "\r",
      " 96%|█████████▌| 48/50 [1:30:29<03:35, 107.68s/it]"
     ]
    },
    {
     "name": "stdout",
     "output_type": "stream",
     "text": [
      "epoch: 47\\epochLoss =  0.6932.230074519853068e-07\n",
      "epoch: 48\\epochLoss =  0.693"
     ]
    },
    {
     "name": "stderr",
     "output_type": "stream",
     "text": [
      "\r",
      " 98%|█████████▊| 49/50 [1:32:25<01:50, 110.19s/it]"
     ]
    },
    {
     "name": "stdout",
     "output_type": "stream",
     "text": [
      "epoch: 48\\epochLoss =  0.6931.7840596158824544e-07\n",
      "epoch: 49\\epochLoss =  0.693"
     ]
    },
    {
     "name": "stderr",
     "output_type": "stream",
     "text": [
      "100%|██████████| 50/50 [1:34:28<00:00, 113.36s/it]"
     ]
    },
    {
     "name": "stdout",
     "output_type": "stream",
     "text": [
      "\r",
      "epoch: 49\\epochLoss =  0.693\r",
      "epoch: 49\\epochLoss =  0.693\r",
      "epoch: 49\\epochLoss =  0.693\r",
      "epoch: 49\\epochLoss =  0.693\r",
      "epoch: 49\\epochLoss =  0.693\r",
      "epoch: 49\\epochLoss =  0.693\r",
      "epoch: 49\\epochLoss =  0.693\r",
      "epoch: 49\\epochLoss =  0.693\r",
      "epoch: 49\\epochLoss =  0.692\r",
      "epoch: 49\\epochLoss =  0.693\r",
      "epoch: 49\\epochLoss =  0.693\r",
      "epoch: 49\\epochLoss =  0.693\r",
      "epoch: 49\\epochLoss =  0.693\r",
      "epoch: 49\\epochLoss =  0.693\r",
      "epoch: 49\\epochLoss =  0.693"
     ]
    },
    {
     "name": "stderr",
     "output_type": "stream",
     "text": [
      "\n"
     ]
    },
    {
     "data": {
      "image/png": "[encoded data removed]",
      "text/plain": [
       "<Figure size 432x288 with 1 Axes>"
      ]
     },
     "metadata": {
      "needs_background": "light"
     },
     "output_type": "display_data"
    }
   ],
   "source": [
    "torch.manual_seed(0)\n",
    "\n",
    "sgd = True\n",
    "train = True\n",
    "\n",
    "if sgd:\n",
    "    model_path = \"./models/model_sgd_categorical_%s.pt\"%suffix\n",
    "    net = Net(d, epochs = 50, loss = BCELoss(reduction=\"sum\"), categorical = True)\n",
    "else:\n",
    "    model_path = \"./models/model_categorical_%s.pt\"%suffix\n",
    "    net = Net(d, epochs = 20, loss = BCELoss(reduction=\"sum\"), categorical = True)\n",
    "    \n",
    "if train:\n",
    "    usegpu=False\n",
    "    if torch.cuda.is_available() and usegpu:\n",
    "        device = torch.device(\"cuda:0\")\n",
    "        print(\"Running on GPU\")\n",
    "    else:\n",
    "        device = torch.device(\"cpu\")\n",
    "    net.to(device)\n",
    "    if sgd:\n",
    "        net.train_sgd(X, Y, 10000, lr = 1e-2, usegpu = usegpu)\n",
    "    else:\n",
    "        net.train_gd(X, Y, 2000, lr = 1e-3, usegpu = usegpu)\n",
    "    torch.save(net.state_dict(), model_path)"
   ]
  },
  {
   "cell_type": "code",
   "execution_count": 7,
   "metadata": {},
   "outputs": [
    {
     "name": "stdout",
     "output_type": "stream",
     "text": [
      "Overall loss: tensor(0.4984, grad_fn=<MseLossBackward>)\n"
     ]
    },
    {
     "data": {
      "image/png": "[encoded data removed]",
      "text/plain": [
       "<Figure size 432x288 with 1 Axes>"
      ]
     },
     "metadata": {
      "needs_background": "light"
     },
     "output_type": "display_data"
    },
    {
     "data": {
      "image/png": "[encoded data removed]",
      "text/plain": [
       "<Figure size 1080x1080 with 1 Axes>"
      ]
     },
     "metadata": {
      "needs_background": "light"
     },
     "output_type": "display_data"
    }
   ],
   "source": [
    "check_loss_landscape(model_path, X, Y, sgd=True)"
   ]
  },
  {
   "cell_type": "code",
   "execution_count": null,
   "metadata": {},
   "outputs": [],
   "source": []
  }
 ],
 "metadata": {
  "kernelspec": {
   "display_name": "Python 3",
   "language": "python",
   "name": "python3"
  },
  "language_info": {
   "codemirror_mode": {
    "name": "ipython",
    "version": 3
   },
   "file_extension": ".py",
   "mimetype": "text/x-python",
   "name": "python",
   "nbconvert_exporter": "python",
   "pygments_lexer": "ipython3",
   "version": "3.6.11"
  }
 },
 "nbformat": 4,
 "nbformat_minor": 4
}
