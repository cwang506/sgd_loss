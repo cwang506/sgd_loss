{
 "cells": [
  {
   "cell_type": "code",
   "execution_count": 1,
   "metadata": {},
   "outputs": [],
   "source": [
    "%load_ext autoreload\n",
    "%autoreload 2"
   ]
  },
  {
   "cell_type": "code",
   "execution_count": 2,
   "metadata": {},
   "outputs": [
    {
     "name": "stderr",
     "output_type": "stream",
     "text": [
      "/afs/csail.mit.edu/u/m/melango/.conda/envs/p3t14/lib/python3.6/site-packages/torch/nn/_reduction.py:43: UserWarning: size_average and reduce args will be deprecated, please use reduction='mean' instead.\n",
      "  warnings.warn(warning.format(ret))\n"
     ]
    }
   ],
   "source": [
    "from torch.nn import Softplus #smooth relu\n",
    "import torch.nn as nn\n",
    "import torch.nn.functional as F\n",
    "from utils import generate_polynomial_data\n",
    "import numpy as np\n",
    "import torch\n",
    "import torch.optim as optim\n",
    "from torch.nn import MSELoss, BCELoss\n",
    "from tqdm import tqdm\n",
    "import pickle\n",
    "from model import Net, check_loss_landscape\n",
    "\n",
    "import matplotlib.pyplot as plt"
   ]
  },
  {
   "cell_type": "code",
   "execution_count": 3,
   "metadata": {},
   "outputs": [],
   "source": [
    "torch.manual_seed(0)\n",
    "suffix = \"1\"\n",
    "\n",
    "n = 20\n",
    "d = 10000\n",
    "generate_data = False\n",
    "usepickle = True\n",
    "\n",
    "coeffs = -1+2*np.random.rand(d, 1)\n",
    "xvals = -1+2*np.random.rand(n)\n",
    "fileend = \".pickle\" if usepickle else \".npy\"\n",
    "\n",
    "if generate_data:\n",
    "    print(\"Generating Data...\")\n",
    "    X, Y = generate_polynomial_data(coeffs, xvals)\n",
    "    #make categorical\n",
    "    inds_pos = np.where(Y>0)\n",
    "    inds_neg = np.where(Y<=0)\n",
    "#     print(Y)\n",
    "    Y[inds_pos] = 1\n",
    "    Y[inds_neg] = 0\n",
    "    with open(\"./datasets/X_categorical_%s%s\" %((\"pickle_\" if usepickle else \"\"), sufix)+fileend, \"wb\") as f:\n",
    "        if usepickle:\n",
    "            pickle.dump(X, f)\n",
    "        else:\n",
    "            np.save(f, X)\n",
    "    with open(\"./datasets/Y_categorical_%s%s\" %((\"pickle_\" if usepickle else \"\"),suffix) + fileend, \"wb\") as f:\n",
    "        if usepickle:\n",
    "            pickle.dump(Y, f)\n",
    "        else:\n",
    "            np.save(f, Y)\n",
    "    with open(\"./datasets/coeffs_categorical_%s%s\" %((\"pickle_\" if usepickle else \"\"),suffix) + fileend, \"wb\") as f:\n",
    "        if usepickle:\n",
    "            pickle.dump(coeffs, f)\n",
    "        else:\n",
    "            np.save(f, coeffs)\n",
    "    \n",
    "else:\n",
    "    with open(\"./datasets/X_categorical_%s%s\" %((\"pickle_\" if usepickle else \"\"),suffix) + fileend, \"rb\") as f:\n",
    "        if usepickle:\n",
    "            X = pickle.load(f)\n",
    "        else:\n",
    "            X = np.load(f)\n",
    "    with open(\"./datasets/Y_categorical_%s%s\" %((\"pickle_\" if usepickle else \"\"),suffix) + fileend, \"rb\") as f:\n",
    "        if usepickle:\n",
    "            Y = pickle.load(f)\n",
    "        else:\n",
    "            Y = np.load(f)\n",
    "    with open(\"./datasets/coeffs_categorical_%s%s\" %((\"pickle_\" if usepickle else \"\"),suffix) + fileend, \"rb\") as f:\n",
    "        if usepickle:\n",
    "            coeffs = pickle.load(f)\n",
    "        else:\n",
    "            coeffs = np.load(f)"
   ]
  },
  {
   "cell_type": "code",
   "execution_count": 4,
   "metadata": {},
   "outputs": [],
   "source": [
    "#subsample to get 50/50 split\n",
    "inds_pos = np.where(Y==1)[0]\n",
    "inds_neg = np.where(Y==0)[0]\n",
    "pos = np.random.choice(inds_pos, size=int(20/2))\n",
    "neg = np.random.choice(inds_neg, size=int(20/2))\n",
    "data_inds = np.concatenate([pos, neg])\n",
    "data_inds.sort()\n",
    "X, Y = X[data_inds], Y[data_inds]"
   ]
  },
  {
   "cell_type": "code",
   "execution_count": 5,
   "metadata": {},
   "outputs": [
    {
     "name": "stdout",
     "output_type": "stream",
     "text": [
      "Running on GPU\n"
     ]
    },
    {
     "name": "stderr",
     "output_type": "stream",
     "text": [
      "\r",
      "  0%|          | 0/10 [00:00<?, ?it/s]"
     ]
    },
    {
     "name": "stdout",
     "output_type": "stream",
     "text": [
      "Running on GPU\n",
      "0.01\n"
     ]
    },
    {
     "name": "stderr",
     "output_type": "stream",
     "text": [
      "/afs/csail.mit.edu/u/m/melango/.conda/envs/p3t14/lib/python3.6/site-packages/torch/nn/functional.py:1569: UserWarning: nn.functional.sigmoid is deprecated. Use torch.sigmoid instead.\n",
      "  warnings.warn(\"nn.functional.sigmoid is deprecated. Use torch.sigmoid instead.\")\n"
     ]
    },
    {
     "name": "stdout",
     "output_type": "stream",
     "text": [
      "epoch: 0\\epochLoss =  0.643"
     ]
    },
    {
     "name": "stderr",
     "output_type": "stream",
     "text": [
      "\r",
      "  2%|▏         | 1/50 [02:31<2:03:50, 151.63s/it]"
     ]
    },
    {
     "name": "stdout",
     "output_type": "stream",
     "text": [
      "epoch: 0\\epochLoss =  0.7440.008\n",
      "epoch: 1\\epochLoss =  0.712"
     ]
    },
    {
     "name": "stderr",
     "output_type": "stream",
     "text": [
      "\r",
      "  4%|▍         | 2/50 [05:02<2:01:10, 151.47s/it]"
     ]
    },
    {
     "name": "stdout",
     "output_type": "stream",
     "text": [
      "epoch: 1\\epochLoss =  0.6960.0064\n",
      "epoch: 2\\epochLoss =  0.743"
     ]
    },
    {
     "name": "stderr",
     "output_type": "stream",
     "text": [
      "\r",
      "  6%|▌         | 3/50 [07:33<1:58:28, 151.25s/it]"
     ]
    },
    {
     "name": "stdout",
     "output_type": "stream",
     "text": [
      "epoch: 2\\epochLoss =  0.7400.00512\n",
      "epoch: 3\\epochLoss =  0.009"
     ]
    },
    {
     "name": "stderr",
     "output_type": "stream",
     "text": [
      "\r",
      "  8%|▊         | 4/50 [10:12<1:57:38, 153.44s/it]"
     ]
    },
    {
     "name": "stdout",
     "output_type": "stream",
     "text": [
      "epoch: 3\\epochLoss =  0.0090.004096000000000001\n",
      "epoch: 4\\epochLoss =  0.001"
     ]
    },
    {
     "name": "stderr",
     "output_type": "stream",
     "text": [
      "\r",
      " 10%|█         | 5/50 [13:24<2:03:51, 165.15s/it]"
     ]
    },
    {
     "name": "stdout",
     "output_type": "stream",
     "text": [
      "epoch: 4\\epochLoss =  0.0000.0032768000000000007\n",
      "epoch: 5\\epochLoss =  0.003"
     ]
    },
    {
     "name": "stderr",
     "output_type": "stream",
     "text": [
      "\r",
      " 12%|█▏        | 6/50 [15:57<1:58:31, 161.62s/it]"
     ]
    },
    {
     "name": "stdout",
     "output_type": "stream",
     "text": [
      "epoch: 5\\epochLoss =  0.0030.002621440000000001\n",
      "epoch: 6\\epochLoss =  0.003"
     ]
    },
    {
     "name": "stderr",
     "output_type": "stream",
     "text": [
      "\r",
      " 14%|█▍        | 7/50 [18:32<1:54:24, 159.64s/it]"
     ]
    },
    {
     "name": "stdout",
     "output_type": "stream",
     "text": [
      "epoch: 6\\epochLoss =  0.0030.002097152000000001\n",
      "epoch: 7\\epochLoss =  0.000"
     ]
    },
    {
     "name": "stderr",
     "output_type": "stream",
     "text": [
      "\r",
      " 16%|█▌        | 8/50 [21:04<1:49:57, 157.08s/it]"
     ]
    },
    {
     "name": "stdout",
     "output_type": "stream",
     "text": [
      "epoch: 7\\epochLoss =  0.0000.001677721600000001\n",
      "epoch: 8\\epochLoss =  0.000"
     ]
    },
    {
     "name": "stderr",
     "output_type": "stream",
     "text": [
      "\r",
      " 18%|█▊        | 9/50 [23:35<1:46:12, 155.44s/it]"
     ]
    },
    {
     "name": "stdout",
     "output_type": "stream",
     "text": [
      "epoch: 8\\epochLoss =  0.0020.0013421772800000008\n",
      "epoch: 9\\epochLoss =  0.000"
     ]
    },
    {
     "name": "stderr",
     "output_type": "stream",
     "text": [
      "\r",
      " 20%|██        | 10/50 [26:09<1:43:17, 154.95s/it]"
     ]
    },
    {
     "name": "stdout",
     "output_type": "stream",
     "text": [
      "epoch: 9\\epochLoss =  0.0020.0010737418240000006\n",
      "epoch: 10\\epochLoss =  0.002"
     ]
    },
    {
     "name": "stderr",
     "output_type": "stream",
     "text": [
      "\r",
      " 22%|██▏       | 11/50 [28:41<1:40:08, 154.07s/it]"
     ]
    },
    {
     "name": "stdout",
     "output_type": "stream",
     "text": [
      "epoch: 10\\epochLoss =  0.0020.0008589934592000006\n",
      "epoch: 11\\epochLoss =  0.000"
     ]
    },
    {
     "name": "stderr",
     "output_type": "stream",
     "text": [
      "\r",
      " 24%|██▍       | 12/50 [31:12<1:36:58, 153.11s/it]"
     ]
    },
    {
     "name": "stdout",
     "output_type": "stream",
     "text": [
      "epoch: 11\\epochLoss =  0.0020.0006871947673600005\n",
      "epoch: 12\\epochLoss =  0.000"
     ]
    },
    {
     "name": "stderr",
     "output_type": "stream",
     "text": [
      "\r",
      " 26%|██▌       | 13/50 [33:50<1:35:17, 154.53s/it]"
     ]
    },
    {
     "name": "stdout",
     "output_type": "stream",
     "text": [
      "epoch: 12\\epochLoss =  0.0000.0005497558138880005\n",
      "epoch: 13\\epochLoss =  0.000"
     ]
    },
    {
     "name": "stderr",
     "output_type": "stream",
     "text": [
      "\r",
      " 28%|██▊       | 14/50 [36:22<1:32:14, 153.73s/it]"
     ]
    },
    {
     "name": "stdout",
     "output_type": "stream",
     "text": [
      "epoch: 13\\epochLoss =  0.0000.0004398046511104004\n",
      "epoch: 14\\epochLoss =  0.000"
     ]
    },
    {
     "name": "stderr",
     "output_type": "stream",
     "text": [
      "\r",
      " 30%|███       | 15/50 [39:01<1:30:39, 155.42s/it]"
     ]
    },
    {
     "name": "stdout",
     "output_type": "stream",
     "text": [
      "epoch: 14\\epochLoss =  0.0000.00035184372088832035\n",
      "epoch: 15\\epochLoss =  0.000"
     ]
    },
    {
     "name": "stderr",
     "output_type": "stream",
     "text": [
      "\r",
      " 32%|███▏      | 16/50 [41:32<1:27:22, 154.19s/it]"
     ]
    },
    {
     "name": "stdout",
     "output_type": "stream",
     "text": [
      "epoch: 15\\epochLoss =  0.0000.0002814749767106563\n",
      "epoch: 16\\epochLoss =  0.002"
     ]
    },
    {
     "name": "stderr",
     "output_type": "stream",
     "text": [
      "\r",
      " 34%|███▍      | 17/50 [44:03<1:24:10, 153.04s/it]"
     ]
    },
    {
     "name": "stdout",
     "output_type": "stream",
     "text": [
      "epoch: 16\\epochLoss =  0.0020.00022517998136852504\n",
      "epoch: 17\\epochLoss =  0.002"
     ]
    },
    {
     "name": "stderr",
     "output_type": "stream",
     "text": [
      "\r",
      " 36%|███▌      | 18/50 [46:36<1:21:44, 153.25s/it]"
     ]
    },
    {
     "name": "stdout",
     "output_type": "stream",
     "text": [
      "epoch: 17\\epochLoss =  0.0020.00018014398509482005\n",
      "epoch: 18\\epochLoss =  0.000"
     ]
    },
    {
     "name": "stderr",
     "output_type": "stream",
     "text": [
      "\r",
      " 38%|███▊      | 19/50 [49:09<1:19:01, 152.95s/it]"
     ]
    },
    {
     "name": "stdout",
     "output_type": "stream",
     "text": [
      "epoch: 18\\epochLoss =  0.0000.00014411518807585605\n",
      "epoch: 19\\epochLoss =  0.000"
     ]
    },
    {
     "name": "stderr",
     "output_type": "stream",
     "text": [
      "\r",
      " 40%|████      | 20/50 [51:43<1:16:39, 153.33s/it]"
     ]
    },
    {
     "name": "stdout",
     "output_type": "stream",
     "text": [
      "epoch: 19\\epochLoss =  0.0000.00011529215046068484\n",
      "epoch: 20\\epochLoss =  0.000"
     ]
    },
    {
     "name": "stderr",
     "output_type": "stream",
     "text": [
      "\r",
      " 42%|████▏     | 21/50 [54:13<1:13:43, 152.55s/it]"
     ]
    },
    {
     "name": "stdout",
     "output_type": "stream",
     "text": [
      "epoch: 20\\epochLoss =  0.0009.223372036854788e-05\n",
      "epoch: 21\\epochLoss =  0.000"
     ]
    },
    {
     "name": "stderr",
     "output_type": "stream",
     "text": [
      "\r",
      " 44%|████▍     | 22/50 [56:46<1:11:15, 152.68s/it]"
     ]
    },
    {
     "name": "stdout",
     "output_type": "stream",
     "text": [
      "epoch: 21\\epochLoss =  0.0027.378697629483831e-05\n",
      "epoch: 22\\epochLoss =  0.002"
     ]
    },
    {
     "name": "stderr",
     "output_type": "stream",
     "text": [
      "\r",
      " 46%|████▌     | 23/50 [59:16<1:08:17, 151.77s/it]"
     ]
    },
    {
     "name": "stdout",
     "output_type": "stream",
     "text": [
      "epoch: 22\\epochLoss =  0.0005.902958103587065e-05\n",
      "epoch: 23\\epochLoss =  0.002"
     ]
    },
    {
     "name": "stderr",
     "output_type": "stream",
     "text": [
      "\r",
      " 48%|████▊     | 24/50 [1:01:45<1:05:26, 151.02s/it]"
     ]
    },
    {
     "name": "stdout",
     "output_type": "stream",
     "text": [
      "epoch: 23\\epochLoss =  0.0004.722366482869652e-05\n",
      "epoch: 24\\epochLoss =  0.002"
     ]
    },
    {
     "name": "stderr",
     "output_type": "stream",
     "text": [
      "\r",
      " 50%|█████     | 25/50 [1:04:15<1:02:42, 150.50s/it]"
     ]
    },
    {
     "name": "stdout",
     "output_type": "stream",
     "text": [
      "epoch: 24\\epochLoss =  0.0003.777893186295722e-05\n",
      "epoch: 25\\epochLoss =  0.002"
     ]
    },
    {
     "name": "stderr",
     "output_type": "stream",
     "text": [
      "\r",
      " 52%|█████▏    | 26/50 [1:06:43<59:58, 149.95s/it]  "
     ]
    },
    {
     "name": "stdout",
     "output_type": "stream",
     "text": [
      "epoch: 25\\epochLoss =  0.0003.0223145490365776e-05\n",
      "epoch: 26\\epochLoss =  0.002"
     ]
    },
    {
     "name": "stderr",
     "output_type": "stream",
     "text": [
      "\r",
      " 54%|█████▍    | 27/50 [1:09:13<57:25, 149.81s/it]"
     ]
    },
    {
     "name": "stdout",
     "output_type": "stream",
     "text": [
      "epoch: 26\\epochLoss =  0.0022.4178516392292623e-05\n",
      "epoch: 27\\epochLoss =  0.002"
     ]
    },
    {
     "name": "stderr",
     "output_type": "stream",
     "text": [
      "\r",
      " 56%|█████▌    | 28/50 [1:11:42<54:54, 149.74s/it]"
     ]
    },
    {
     "name": "stdout",
     "output_type": "stream",
     "text": [
      "epoch: 27\\epochLoss =  0.0001.93428131138341e-05\n",
      "epoch: 28\\epochLoss =  0.002"
     ]
    },
    {
     "name": "stderr",
     "output_type": "stream",
     "text": [
      "\r",
      " 58%|█████▊    | 29/50 [1:14:12<52:20, 149.56s/it]"
     ]
    },
    {
     "name": "stdout",
     "output_type": "stream",
     "text": [
      "epoch: 28\\epochLoss =  0.0021.547425049106728e-05\n",
      "epoch: 29\\epochLoss =  0.002"
     ]
    },
    {
     "name": "stderr",
     "output_type": "stream",
     "text": [
      "\r",
      " 60%|██████    | 30/50 [1:16:40<49:46, 149.33s/it]"
     ]
    },
    {
     "name": "stdout",
     "output_type": "stream",
     "text": [
      "epoch: 29\\epochLoss =  0.0021.2379400392853824e-05\n",
      "epoch: 30\\epochLoss =  0.002"
     ]
    },
    {
     "name": "stderr",
     "output_type": "stream",
     "text": [
      "\r",
      " 62%|██████▏   | 31/50 [1:19:10<47:19, 149.45s/it]"
     ]
    },
    {
     "name": "stdout",
     "output_type": "stream",
     "text": [
      "epoch: 30\\epochLoss =  0.0009.90352031428306e-06\n",
      "epoch: 31\\epochLoss =  0.000"
     ]
    },
    {
     "name": "stderr",
     "output_type": "stream",
     "text": [
      "\r",
      " 64%|██████▍   | 32/50 [1:21:39<44:49, 149.42s/it]"
     ]
    },
    {
     "name": "stdout",
     "output_type": "stream",
     "text": [
      "epoch: 31\\epochLoss =  0.0007.922816251426448e-06\n",
      "epoch: 32\\epochLoss =  0.002"
     ]
    },
    {
     "name": "stderr",
     "output_type": "stream",
     "text": [
      "\r",
      " 66%|██████▌   | 33/50 [1:24:08<42:16, 149.19s/it]"
     ]
    },
    {
     "name": "stdout",
     "output_type": "stream",
     "text": [
      "epoch: 32\\epochLoss =  0.0006.338253001141159e-06\n",
      "epoch: 33\\epochLoss =  0.002"
     ]
    },
    {
     "name": "stderr",
     "output_type": "stream",
     "text": [
      "\r",
      " 68%|██████▊   | 34/50 [1:26:38<39:48, 149.28s/it]"
     ]
    },
    {
     "name": "stdout",
     "output_type": "stream",
     "text": [
      "epoch: 33\\epochLoss =  0.0005.0706024009129275e-06\n",
      "epoch: 34\\epochLoss =  0.000"
     ]
    },
    {
     "name": "stderr",
     "output_type": "stream",
     "text": [
      "\r",
      " 70%|███████   | 35/50 [1:29:07<37:20, 149.38s/it]"
     ]
    },
    {
     "name": "stdout",
     "output_type": "stream",
     "text": [
      "epoch: 34\\epochLoss =  0.0024.056481920730342e-06\n",
      "epoch: 35\\epochLoss =  0.000"
     ]
    },
    {
     "name": "stderr",
     "output_type": "stream",
     "text": [
      "\r",
      " 72%|███████▏  | 36/50 [1:31:37<34:51, 149.37s/it]"
     ]
    },
    {
     "name": "stdout",
     "output_type": "stream",
     "text": [
      "epoch: 35\\epochLoss =  0.0023.245185536584274e-06\n",
      "epoch: 36\\epochLoss =  0.002"
     ]
    },
    {
     "name": "stderr",
     "output_type": "stream",
     "text": [
      "\r",
      " 74%|███████▍  | 37/50 [1:34:07<32:27, 149.84s/it]"
     ]
    },
    {
     "name": "stdout",
     "output_type": "stream",
     "text": [
      "epoch: 36\\epochLoss =  0.0022.596148429267419e-06\n",
      "epoch: 37\\epochLoss =  0.000"
     ]
    },
    {
     "name": "stderr",
     "output_type": "stream",
     "text": [
      "\r",
      " 76%|███████▌  | 38/50 [1:36:36<29:54, 149.57s/it]"
     ]
    },
    {
     "name": "stdout",
     "output_type": "stream",
     "text": [
      "epoch: 37\\epochLoss =  0.0002.0769187434139356e-06\n",
      "epoch: 38\\epochLoss =  0.002"
     ]
    },
    {
     "name": "stderr",
     "output_type": "stream",
     "text": [
      "\r",
      " 78%|███████▊  | 39/50 [1:39:06<27:25, 149.62s/it]"
     ]
    },
    {
     "name": "stdout",
     "output_type": "stream",
     "text": [
      "epoch: 38\\epochLoss =  0.0021.6615349947311485e-06\n",
      "epoch: 39\\epochLoss =  0.000"
     ]
    },
    {
     "name": "stderr",
     "output_type": "stream",
     "text": [
      "\r",
      " 80%|████████  | 40/50 [1:41:35<24:55, 149.52s/it]"
     ]
    },
    {
     "name": "stdout",
     "output_type": "stream",
     "text": [
      "epoch: 39\\epochLoss =  0.0001.3292279957849189e-06\n",
      "epoch: 40\\epochLoss =  0.002"
     ]
    },
    {
     "name": "stderr",
     "output_type": "stream",
     "text": [
      "\r",
      " 82%|████████▏ | 41/50 [1:44:05<22:25, 149.45s/it]"
     ]
    },
    {
     "name": "stdout",
     "output_type": "stream",
     "text": [
      "epoch: 40\\epochLoss =  0.0001.0633823966279351e-06\n",
      "epoch: 41\\epochLoss =  0.002"
     ]
    },
    {
     "name": "stderr",
     "output_type": "stream",
     "text": [
      "\r",
      " 84%|████████▍ | 42/50 [1:46:34<19:54, 149.36s/it]"
     ]
    },
    {
     "name": "stdout",
     "output_type": "stream",
     "text": [
      "epoch: 41\\epochLoss =  0.0008.507059173023481e-07\n",
      "epoch: 42\\epochLoss =  0.002"
     ]
    },
    {
     "name": "stderr",
     "output_type": "stream",
     "text": [
      "\r",
      " 86%|████████▌ | 43/50 [1:49:03<17:24, 149.23s/it]"
     ]
    },
    {
     "name": "stdout",
     "output_type": "stream",
     "text": [
      "epoch: 42\\epochLoss =  0.0026.805647338418785e-07\n",
      "epoch: 43\\epochLoss =  0.000"
     ]
    },
    {
     "name": "stderr",
     "output_type": "stream",
     "text": [
      "\r",
      " 88%|████████▊ | 44/50 [1:51:35<15:00, 150.07s/it]"
     ]
    },
    {
     "name": "stdout",
     "output_type": "stream",
     "text": [
      "epoch: 43\\epochLoss =  0.0005.444517870735028e-07\n",
      "epoch: 44\\epochLoss =  0.002"
     ]
    },
    {
     "name": "stderr",
     "output_type": "stream",
     "text": [
      "\r",
      " 90%|█████████ | 45/50 [1:54:06<12:32, 150.52s/it]"
     ]
    },
    {
     "name": "stdout",
     "output_type": "stream",
     "text": [
      "epoch: 44\\epochLoss =  0.0004.355614296588023e-07\n",
      "epoch: 45\\epochLoss =  0.002"
     ]
    },
    {
     "name": "stderr",
     "output_type": "stream",
     "text": [
      "\r",
      " 92%|█████████▏| 46/50 [1:56:36<10:00, 150.16s/it]"
     ]
    },
    {
     "name": "stdout",
     "output_type": "stream",
     "text": [
      "epoch: 45\\epochLoss =  0.0003.484491437270418e-07\n",
      "epoch: 46\\epochLoss =  0.002"
     ]
    },
    {
     "name": "stderr",
     "output_type": "stream",
     "text": [
      "\r",
      " 94%|█████████▍| 47/50 [1:59:05<07:29, 149.78s/it]"
     ]
    },
    {
     "name": "stdout",
     "output_type": "stream",
     "text": [
      "epoch: 46\\epochLoss =  0.0002.7875931498163346e-07\n",
      "epoch: 47\\epochLoss =  0.000"
     ]
    },
    {
     "name": "stderr",
     "output_type": "stream",
     "text": [
      "\r",
      " 96%|█████████▌| 48/50 [2:01:35<04:59, 149.98s/it]"
     ]
    },
    {
     "name": "stdout",
     "output_type": "stream",
     "text": [
      "epoch: 47\\epochLoss =  0.0022.230074519853068e-07\n",
      "epoch: 48\\epochLoss =  0.000"
     ]
    },
    {
     "name": "stderr",
     "output_type": "stream",
     "text": [
      "\r",
      " 98%|█████████▊| 49/50 [2:04:04<02:29, 149.81s/it]"
     ]
    },
    {
     "name": "stdout",
     "output_type": "stream",
     "text": [
      "epoch: 48\\epochLoss =  0.0021.7840596158824544e-07\n",
      "epoch: 49\\epochLoss =  0.002"
     ]
    },
    {
     "name": "stderr",
     "output_type": "stream",
     "text": [
      "100%|██████████| 50/50 [2:06:34<00:00, 151.88s/it]\n"
     ]
    },
    {
     "data": {
      "image/png": "[encoded data removed]",
      "text/plain": [
       "<Figure size 432x288 with 1 Axes>"
      ]
     },
     "metadata": {
      "needs_background": "light"
     },
     "output_type": "display_data"
    }
   ],
   "source": [
    "torch.manual_seed(0)\n",
    "\n",
    "sgd = True\n",
    "train = True\n",
    "\n",
    "if sgd:\n",
    "    model_path = \"./models/model_sgd_categorical_%s.pt\"%suffix\n",
    "    net = Net(d, epochs = 50, loss = BCELoss(reduction=\"sum\"), categorical = True)\n",
    "else:\n",
    "    model_path = \"./models/model_categorical_%s.pt\"%suffix\n",
    "    net = Net(d, epochs = 20, loss = BCELoss(reduction=\"sum\"), categorical = True)\n",
    "    \n",
    "if train:\n",
    "    usegpu=True\n",
    "    if torch.cuda.is_available() and usegpu:\n",
    "        device = torch.device(\"cuda:0\")\n",
    "        print(\"Running on GPU\")\n",
    "    else:\n",
    "        device = torch.device(\"cpu\")\n",
    "    net.to(device)\n",
    "    if sgd:\n",
    "        net.train_sgd(X, Y, 50000, lr = 1e-2, usegpu = usegpu)\n",
    "    else:\n",
    "        net.train_gd(X, Y, 2000, lr = 1e-3, usegpu = usegpu)\n",
    "    torch.save(net.state_dict(), model_path)"
   ]
  },
  {
   "cell_type": "code",
   "execution_count": 8,
   "metadata": {},
   "outputs": [
    {
     "name": "stderr",
     "output_type": "stream",
     "text": [
      "/afs/csail.mit.edu/u/m/melango/.conda/envs/p3t14/lib/python3.6/site-packages/torch/nn/_reduction.py:43: UserWarning: size_average and reduce args will be deprecated, please use reduction='mean' instead.\n",
      "  warnings.warn(warning.format(ret))\n",
      "/afs/csail.mit.edu/u/m/melango/.conda/envs/p3t14/lib/python3.6/site-packages/torch/nn/functional.py:1569: UserWarning: nn.functional.sigmoid is deprecated. Use torch.sigmoid instead.\n",
      "  warnings.warn(\"nn.functional.sigmoid is deprecated. Use torch.sigmoid instead.\")\n"
     ]
    },
    {
     "name": "stdout",
     "output_type": "stream",
     "text": [
      "Overall loss: tensor(1.3120e-06, grad_fn=<MseLossBackward>)\n",
      "0.9982220530509949 1.0\n",
      "0.9982220530509949 1.0\n",
      "9.999723988585174e-05 0.0\n",
      "9.951375432137866e-06 0.0\n",
      "0.998418927192688 1.0\n",
      "0.9984433054924011 1.0\n",
      "2.3928085416075145e-21 0.0\n",
      "1.2153918760304805e-07 0.0\n",
      "1.9574069032302077e-09 0.0\n",
      "1.9574069032302077e-09 0.0\n",
      "2.0836141700897315e-08 0.0\n",
      "0.9984003901481628 1.0\n",
      "0.9984003901481628 1.0\n",
      "6.690513350586166e-14 0.0\n",
      "0.9984250068664551 1.0\n",
      "0.9984250068664551 1.0\n",
      "0.9984413981437683 1.0\n",
      "3.3178118416550884e-17 0.0\n",
      "0.9984264373779297 1.0\n",
      "4.772729763951299e-25 0.0\n",
      "[1.0, 1.0, 0.0, 0.0, 1.0, 1.0, 0.0, 0.0, 0.0, 0.0, 0.0, 1.0, 1.0, 0.0, 1.0, 1.0, 1.0, 0.0, 1.0, 0.0]\n"
     ]
    },
    {
     "data": {
      "image/png": "[encoded data removed]",
      "text/plain": [
       "<Figure size 432x288 with 1 Axes>"
      ]
     },
     "metadata": {
      "needs_background": "light"
     },
     "output_type": "display_data"
    },
    {
     "data": {
      "image/png": "[encoded data removed]",
      "text/plain": [
       "<Figure size 1080x1080 with 1 Axes>"
      ]
     },
     "metadata": {
      "needs_background": "light"
     },
     "output_type": "display_data"
    }
   ],
   "source": [
    "check_loss_landscape(model_path, X, Y, sgd=True, categorical=True)"
   ]
  },
  {
   "cell_type": "code",
   "execution_count": 14,
   "metadata": {},
   "outputs": [
    {
     "name": "stdout",
     "output_type": "stream",
     "text": [
      "True\n"
     ]
    },
    {
     "name": "stderr",
     "output_type": "stream",
     "text": [
      "/home/cwang506/.conda/envs/torch-env/lib/python3.8/site-packages/torch/nn/functional.py:1625: UserWarning: nn.functional.sigmoid is deprecated. Use torch.sigmoid instead.\n",
      "  warnings.warn(\"nn.functional.sigmoid is deprecated. Use torch.sigmoid instead.\")\n"
     ]
    },
    {
     "name": "stdout",
     "output_type": "stream",
     "text": [
      "Overall loss: tensor(0.0222, grad_fn=<BinaryCrossEntropyBackward>)\n",
      "1.617239831830375e-05 0.0\n",
      "1.23447629896134e-09 0.0\n",
      "1.168254780161336e-28 0.0\n",
      "0.9980729818344116 1.0\n",
      "0.9981424808502197 1.0\n",
      "1.4208529819370597e-07 0.0\n",
      "0.9981422424316406 1.0\n",
      "4.2774377106979955e-06 0.0\n",
      "0.9975117444992065 1.0\n",
      "6.060698069632053e-06 0.0\n",
      "0.00044137093937024474 0.0\n",
      "0.0 0.0\n",
      "4.1088375354078186e-21 0.0\n",
      "0.9981422424316406 1.0\n",
      "0.9981181621551514 1.0\n",
      "1.2642435539504832e-23 0.0\n",
      "0.995978593826294 1.0\n",
      "0.9981359243392944 1.0\n",
      "0.9978716373443604 1.0\n",
      "0.9981366395950317 1.0\n",
      "[0.0, 0.0, 0.0, 1.0, 1.0, 0.0, 1.0, 0.0, 1.0, 0.0, 0.0, 0.0, 0.0, 1.0, 1.0, 0.0, 1.0, 1.0, 1.0, 1.0]\n"
     ]
    },
    {
     "data": {
      "image/png": "[encoded data removed]",
      "text/plain": [
       "<Figure size 432x288 with 1 Axes>"
      ]
     },
     "metadata": {
      "needs_background": "light"
     },
     "output_type": "display_data"
    },
    {
     "data": {
      "image/png": "[encoded data removed]",
      "text/plain": [
       "<Figure size 1080x1080 with 1 Axes>"
      ]
     },
     "metadata": {
      "needs_background": "light"
     },
     "output_type": "display_data"
    }
   ],
   "source": [
    "check_loss_landscape(model_path, X, Y, sgd = True,loss_function = BCELoss(reduction=\"sum\"), categorical=True )"
   ]
  },
  {
   "cell_type": "code",
   "execution_count": null,
   "metadata": {},
   "outputs": [],
   "source": []
  }
 ],
 "metadata": {
  "kernelspec": {
   "display_name": "Python 3",
   "language": "python",
   "name": "python3"
  },
  "language_info": {
   "codemirror_mode": {
    "name": "ipython",
    "version": 3
   },
   "file_extension": ".py",
   "mimetype": "text/x-python",
   "name": "python",
   "nbconvert_exporter": "python",
   "pygments_lexer": "ipython3",
   "version": "3.6.11"
  }
 },
 "nbformat": 4,
 "nbformat_minor": 4
}
