{
 "cells": [
  {
   "cell_type": "code",
   "execution_count": 1,
   "metadata": {},
   "outputs": [],
   "source": [
    "%load_ext autoreload\n",
    "%autoreload 2"
   ]
  },
  {
   "cell_type": "code",
   "execution_count": 14,
   "metadata": {},
   "outputs": [],
   "source": [
    "from torch.nn import Softplus #smooth relu\n",
    "import torch.nn as nn\n",
    "import torch.nn.functional as F\n",
    "from utils import generate_polynomial_data\n",
    "import numpy as np\n",
    "import torch\n",
    "import torch.optim as optim\n",
    "from torch.nn import MSELoss\n",
    "import pickle\n",
    "from tqdm import tqdm\n",
    "\n",
    "from model import Net, check_loss_landscape"
   ]
  },
  {
   "cell_type": "code",
   "execution_count": 48,
   "metadata": {},
   "outputs": [],
   "source": [
    "torch.manual_seed(0)\n",
    "suffix = \"3\"\n",
    "\n",
    "n = 300\n",
    "d = 5000\n",
    "generate_data = False\n",
    "usepickle = True\n",
    "\n",
    "coeffs = -1+2*np.random.rand(d, 1)\n",
    "xvals = -1+2*np.random.rand(n)\n",
    "fileend = \".pickle\" if usepickle else \".npy\"\n",
    "\n",
    "if generate_data:\n",
    "    print(\"Generating Data...\")\n",
    "    X, Y = generate_polynomial_data(coeffs, xvals)\n",
    "    with open(\"./datasets/X%s%s\" %((\"pickle_\" if usepickle else \"\"), suffix)+fileend, \"wb\") as f:\n",
    "        if usepickle:\n",
    "            pickle.dump(X, f)\n",
    "        else:\n",
    "            np.save(f, X)\n",
    "    with open(\"./datasets/Y%s%s\" %((\"pickle_\" if usepickle else \"\"),suffix) + fileend, \"wb\") as f:\n",
    "        if usepickle:\n",
    "            pickle.dump(Y, f)\n",
    "        else:\n",
    "            np.save(f, Y)\n",
    "    with open(\"./datasets/coeffs%s%s\" %((\"pickle_\" if usepickle else \"\"),suffix) + fileend, \"wb\") as f:\n",
    "        if usepickle:\n",
    "            pickle.dump(coeffs, f)\n",
    "        else:\n",
    "            np.save(f, coeffs)\n",
    "    \n",
    "else:\n",
    "    with open(\"./datasets/X%s%s\" %((\"pickle_\" if usepickle else \"\"),suffix) + fileend, \"rb\") as f:\n",
    "        if usepickle:\n",
    "            X = pickle.load(f)\n",
    "        else:\n",
    "            X = np.load(f)\n",
    "    with open(\"./datasets/Y%s%s\" %((\"pickle_\" if usepickle else \"\"),suffix) + fileend, \"rb\") as f:\n",
    "        if usepickle:\n",
    "            Y = pickle.load(f)\n",
    "        else:\n",
    "            Y = np.load(f)\n",
    "    with open(\"./datasets/coeffs%s%s\" %((\"pickle_\" if usepickle else \"\"),suffix) + fileend, \"rb\") as f:\n",
    "        if usepickle:\n",
    "            coeffs = pickle.load(f)\n",
    "        else:\n",
    "            coeffs = np.load(f)"
   ]
  },
  {
   "cell_type": "code",
   "execution_count": 49,
   "metadata": {},
   "outputs": [
    {
     "name": "stdout",
     "output_type": "stream",
     "text": [
      "(5, 5000)\n"
     ]
    }
   ],
   "source": [
    "print(X.shape)"
   ]
  },
  {
   "cell_type": "code",
   "execution_count": 50,
   "metadata": {},
   "outputs": [],
   "source": [
    "model_path = \"./models/model_sgd_%s_O100_params.pt\"%suffix\n",
    "net = Net(d, epochs = 5)\n",
    "train=True"
   ]
  },
  {
   "cell_type": "code",
   "execution_count": 51,
   "metadata": {},
   "outputs": [
    {
     "name": "stderr",
     "output_type": "stream",
     "text": [
      "\r",
      "  0%|          | 0/5 [00:00<?, ?it/s]"
     ]
    },
    {
     "name": "stdout",
     "output_type": "stream",
     "text": [
      "Running on GPU\n",
      "Running on GPU\n",
      "0.01\n",
      "epoch: 0\\epochLoss =  0.0005"
     ]
    },
    {
     "name": "stderr",
     "output_type": "stream",
     "text": [
      "\r",
      " 20%|██        | 1/5 [03:21<13:24, 201.10s/it]"
     ]
    },
    {
     "name": "stdout",
     "output_type": "stream",
     "text": [
      "epoch: 0\\epochLoss =  0.0010.008\n",
      "epoch: 1\\epochLoss =  0.000"
     ]
    },
    {
     "name": "stderr",
     "output_type": "stream",
     "text": [
      "\r",
      " 40%|████      | 2/5 [06:40<10:01, 200.64s/it]"
     ]
    },
    {
     "name": "stdout",
     "output_type": "stream",
     "text": [
      "epoch: 1\\epochLoss =  0.0000.0064\n",
      "epoch: 2\\epochLoss =  0.000"
     ]
    },
    {
     "name": "stderr",
     "output_type": "stream",
     "text": [
      "\r",
      " 60%|██████    | 3/5 [10:00<06:40, 200.37s/it]"
     ]
    },
    {
     "name": "stdout",
     "output_type": "stream",
     "text": [
      "epoch: 2\\epochLoss =  0.0000.00512\n",
      "epoch: 3\\epochLoss =  0.000"
     ]
    },
    {
     "name": "stderr",
     "output_type": "stream",
     "text": [
      "\r",
      " 80%|████████  | 4/5 [13:19<03:19, 199.95s/it]"
     ]
    },
    {
     "name": "stdout",
     "output_type": "stream",
     "text": [
      "epoch: 3\\epochLoss =  0.0010.004096000000000001\n",
      "epoch: 4\\epochLoss =  0.000"
     ]
    },
    {
     "name": "stderr",
     "output_type": "stream",
     "text": [
      "100%|██████████| 5/5 [16:37<00:00, 199.59s/it]"
     ]
    },
    {
     "name": "stdout",
     "output_type": "stream",
     "text": [
      "\r",
      "epoch: 4\\epochLoss =  0.000\r",
      "epoch: 4\\epochLoss =  0.000\r",
      "epoch: 4\\epochLoss =  0.000\r",
      "epoch: 4\\epochLoss =  0.000\r",
      "epoch: 4\\epochLoss =  0.000\r",
      "epoch: 4\\epochLoss =  0.000\r",
      "epoch: 4\\epochLoss =  0.000\r",
      "epoch: 4\\epochLoss =  0.000\r",
      "epoch: 4\\epochLoss =  0.000\r",
      "epoch: 4\\epochLoss =  0.000\r",
      "epoch: 4\\epochLoss =  0.000\r",
      "epoch: 4\\epochLoss =  0.000\r",
      "epoch: 4\\epochLoss =  0.000\r",
      "epoch: 4\\epochLoss =  0.000\r",
      "epoch: 4\\epochLoss =  0.000\r",
      "epoch: 4\\epochLoss =  0.000\r",
      "epoch: 4\\epochLoss =  0.001\r",
      "epoch: 4\\epochLoss =  0.001\r",
      "epoch: 4\\epochLoss =  0.000\r",
      "epoch: 4\\epochLoss =  0.000\r",
      "epoch: 4\\epochLoss =  0.000\r",
      "epoch: 4\\epochLoss =  0.001\r",
      "epoch: 4\\epochLoss =  0.000\r",
      "epoch: 4\\epochLoss =  0.001\r",
      "epoch: 4\\epochLoss =  0.000\r",
      "epoch: 4\\epochLoss =  0.000\r",
      "epoch: 4\\epochLoss =  0.000\r",
      "epoch: 4\\epochLoss =  0.001\r",
      "epoch: 4\\epochLoss =  0.000\r",
      "epoch: 4\\epochLoss =  0.000\r",
      "epoch: 4\\epochLoss =  0.000\r",
      "epoch: 4\\epochLoss =  0.000\r",
      "epoch: 4\\epochLoss =  0.000\r",
      "epoch: 4\\epochLoss =  0.000\r",
      "epoch: 4\\epochLoss =  0.000\r",
      "epoch: 4\\epochLoss =  0.001"
     ]
    },
    {
     "name": "stderr",
     "output_type": "stream",
     "text": [
      "\n"
     ]
    },
    {
     "data": {
      "image/png": "[encoded data removed]",
      "text/plain": [
       "<Figure size 432x288 with 1 Axes>"
      ]
     },
     "metadata": {
      "needs_background": "light"
     },
     "output_type": "display_data"
    }
   ],
   "source": [
    "sgd = True\n",
    "if train:\n",
    "    usegpu=True\n",
    "    if torch.cuda.is_available() and usegpu:\n",
    "        device = torch.device(\"cuda:0\")\n",
    "        print(\"Running on GPU\")\n",
    "    else:\n",
    "        device = torch.device(\"cpu\")\n",
    "    net.to(device)\n",
    "    if sgd:\n",
    "        net.train_sgd(X, Y, 100000, lr = 1e-2)\n",
    "    else:\n",
    "        net.train_gd(X, Y, 2000, lr = 1e-3, usegpu = usegpu)\n",
    "    torch.save(net.state_dict(), model_path)"
   ]
  },
  {
   "cell_type": "code",
   "execution_count": 52,
   "metadata": {},
   "outputs": [
    {
     "name": "stdout",
     "output_type": "stream",
     "text": [
      "./models/model_sgd_3_O100_params.pt\n"
     ]
    }
   ],
   "source": [
    "print(model_path)"
   ]
  },
  {
   "cell_type": "code",
   "execution_count": 53,
   "metadata": {},
   "outputs": [
    {
     "data": {
      "text/plain": [
       "<All keys matched successfully>"
      ]
     },
     "execution_count": 53,
     "metadata": {},
     "output_type": "execute_result"
    }
   ],
   "source": [
    "n = Net(d, loss=MSELoss(reduction=\"sum\"),epochs=5, categorical = False)\n",
    "n.load_state_dict(torch.load(model_path))\n"
   ]
  },
  {
   "cell_type": "code",
   "execution_count": null,
   "metadata": {},
   "outputs": [],
   "source": []
  }
 ],
 "metadata": {
  "kernelspec": {
   "display_name": "Python 3",
   "language": "python",
   "name": "python3"
  },
  "language_info": {
   "codemirror_mode": {
    "name": "ipython",
    "version": 3
   },
   "file_extension": ".py",
   "mimetype": "text/x-python",
   "name": "python",
   "nbconvert_exporter": "python",
   "pygments_lexer": "ipython3",
   "version": "3.8.5"
  }
 },
 "nbformat": 4,
 "nbformat_minor": 4
}
