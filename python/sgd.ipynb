{
 "cells": [
  {
   "cell_type": "code",
   "execution_count": 1,
   "metadata": {},
   "outputs": [],
   "source": [
    "%load_ext autoreload\n",
    "%autoreload 2"
   ]
  },
  {
   "cell_type": "code",
   "execution_count": 2,
   "metadata": {},
   "outputs": [],
   "source": [
    "from torch.nn import Softplus #smooth relu\n",
    "import torch.nn as nn\n",
    "import torch.nn.functional as F\n",
    "from utils import generate_polynomial_data\n",
    "import numpy as np\n",
    "import torch\n",
    "import torch.optim as optim\n",
    "from torch.nn import MSELoss\n",
    "from tqdm import tqdm\n",
    "\n",
    "from model import Net"
   ]
  },
  {
   "cell_type": "code",
   "execution_count": 3,
   "metadata": {},
   "outputs": [
    {
     "name": "stderr",
     "output_type": "stream",
     "text": [
      "100%|██████████| 20/20 [00:00<00:00, 133.73it/s]"
     ]
    },
    {
     "name": "stdout",
     "output_type": "stream",
     "text": [
      "Generating Data...\n"
     ]
    },
    {
     "name": "stderr",
     "output_type": "stream",
     "text": [
      "\n"
     ]
    }
   ],
   "source": [
    "suffix = \"3\"\n",
    "\n",
    "n = 20\n",
    "d = 10000\n",
    "generate_data = True\n",
    "\n",
    "coeffs = np.random.rand(d, 1)\n",
    "xvals = np.random.rand(n)\n",
    "if generate_data:\n",
    "    print(\"Generating Data...\")\n",
    "    X, Y = generate_polynomial_data(coeffs, xvals)\n",
    "    '''with open(\"./datasets/X%s.npy\" %suffix, \"wb\") as f:\n",
    "        np.save(f, X)\n",
    "    with open(\"./datasets/Y%s.npy\" %suffix, \"wb\") as f:\n",
    "        np.save(f, Y)\n",
    "    with open(\"./datasets/coeffs%s.npy\" %suffix, \"wb\") as f:\n",
    "        np.save(f, coeffs)'''"
   ]
  },
  {
   "cell_type": "code",
   "execution_count": null,
   "metadata": {},
   "outputs": [
    {
     "name": "stderr",
     "output_type": "stream",
     "text": [
      "\r",
      "  0%|          | 0/5000 [00:00<?, ?it/s]"
     ]
    },
    {
     "name": "stdout",
     "output_type": "stream",
     "text": [
      "Running on CPU\n"
     ]
    },
    {
     "name": "stderr",
     "output_type": "stream",
     "text": [
      " 40%|████      | 2001/5000 [03:24<05:47,  8.64it/s]"
     ]
    },
    {
     "name": "stdout",
     "output_type": "stream",
     "text": [
      "\r",
      "Epoch 1 iteration 2000 loss: 148.63\n"
     ]
    },
    {
     "name": "stderr",
     "output_type": "stream",
     "text": [
      " 80%|████████  | 4001/5000 [07:10<02:15,  7.37it/s]"
     ]
    },
    {
     "name": "stdout",
     "output_type": "stream",
     "text": [
      "\r",
      "Epoch 1 iteration 4000 loss: 195.52\n"
     ]
    },
    {
     "name": "stderr",
     "output_type": "stream",
     "text": [
      "100%|██████████| 5000/5000 [09:01<00:00,  9.23it/s]\n",
      " 40%|████      | 2001/5000 [04:07<07:08,  7.00it/s]"
     ]
    },
    {
     "name": "stdout",
     "output_type": "stream",
     "text": [
      "\r",
      "Epoch 2 iteration 2000 loss: 46.87\n"
     ]
    },
    {
     "name": "stderr",
     "output_type": "stream",
     "text": [
      " 80%|████████  | 4001/5000 [08:47<02:13,  7.48it/s]"
     ]
    },
    {
     "name": "stdout",
     "output_type": "stream",
     "text": [
      "\r",
      "Epoch 2 iteration 4000 loss: 93.71\n"
     ]
    },
    {
     "name": "stderr",
     "output_type": "stream",
     "text": [
      "100%|██████████| 5000/5000 [11:12<00:00,  7.44it/s]\n",
      " 40%|████      | 2001/5000 [04:50<08:05,  6.17it/s]"
     ]
    },
    {
     "name": "stdout",
     "output_type": "stream",
     "text": [
      "\r",
      "Epoch 3 iteration 2000 loss: 46.78\n"
     ]
    },
    {
     "name": "stderr",
     "output_type": "stream",
     "text": [
      " 80%|████████  | 4001/5000 [09:54<02:36,  6.39it/s]"
     ]
    },
    {
     "name": "stdout",
     "output_type": "stream",
     "text": [
      "\r",
      "Epoch 3 iteration 4000 loss: 93.49\n"
     ]
    },
    {
     "name": "stderr",
     "output_type": "stream",
     "text": [
      "100%|██████████| 5000/5000 [12:26<00:00,  6.69it/s]\n",
      " 32%|███▏      | 1580/5000 [03:49<07:45,  7.35it/s]"
     ]
    }
   ],
   "source": [
    "sgd = False\n",
    "train = True\n",
    "\n",
    "if sgd:\n",
    "    model_path = \"./models/model_sgd_%s.pt\"%suffix\n",
    "    net = Net(d, epochs = 50)\n",
    "else:\n",
    "    model_path = \"./models/model_%s.pt\"%suffix\n",
    "    net = Net(d, epochs = 10)\n",
    "    \n",
    "if train:\n",
    "    device = torch.device(\"cpu\")\n",
    "    print(\"Running on CPU\")\n",
    "    net.to(device)\n",
    "    if sgd:\n",
    "        net.train_sgd(X, Y, 100000, lr = 1e-2)\n",
    "    else:\n",
    "        net.train_gd(X, Y, 5000, lr = 1e-4)\n",
    "    torch.save(net.state_dict(), model_path)\n",
    "check_loss_landscape(model_path, X, Y, sgd= True)"
   ]
  },
  {
   "cell_type": "code",
   "execution_count": null,
   "metadata": {},
   "outputs": [],
   "source": [
    "net = Net(d, epochs = 20).cuda()"
   ]
  },
  {
   "cell_type": "code",
   "execution_count": null,
   "metadata": {},
   "outputs": [],
   "source": [
    "device = next(net.parameters()).device"
   ]
  },
  {
   "cell_type": "code",
   "execution_count": null,
   "metadata": {},
   "outputs": [],
   "source": [
    "X_cuda = torch.from_numpy(X).to(device)\n",
    "Y_cuda = torch.from_numpy(Y).to(device)"
   ]
  },
  {
   "cell_type": "code",
   "execution_count": null,
   "metadata": {},
   "outputs": [],
   "source": [
    "net.train_sgd(X_cuda, Y_cuda, T=2000, lr=1e-03)"
   ]
  },
  {
   "cell_type": "code",
   "execution_count": null,
   "metadata": {},
   "outputs": [],
   "source": [
    "suffix = \"sgd_20_epochs\"\n",
    "torch.save(net.state_dict(), \"./models/model%s.pt\"%suffix)"
   ]
  }
 ],
 "metadata": {
  "kernelspec": {
   "display_name": "Python 3",
   "language": "python",
   "name": "python3"
  },
  "language_info": {
   "codemirror_mode": {
    "name": "ipython",
    "version": 3
   },
   "file_extension": ".py",
   "mimetype": "text/x-python",
   "name": "python",
   "nbconvert_exporter": "python",
   "pygments_lexer": "ipython3",
   "version": "3.6.11"
  }
 },
 "nbformat": 4,
 "nbformat_minor": 4
}
