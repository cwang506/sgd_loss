{
 "cells": [
  {
   "cell_type": "code",
   "execution_count": 11,
   "metadata": {},
   "outputs": [],
   "source": [
    "import pickle\n",
    "import numpy as np\n",
    "import json"
   ]
  },
  {
   "cell_type": "code",
   "execution_count": 4,
   "metadata": {},
   "outputs": [],
   "source": [
    "# suffix = 1\n",
    "# with open(\"./datasets/X_categorical_%s.npy\" %suffix, \"rb\") as f:\n",
    "#     pickle.dump()\n",
    "# with open(\"./datasets/Y_categorical_%s.npy\" %suffix, \"rb\") as f:\n",
    "#     Y = np.load(f)\n",
    "# with open(\"./datasets/coeffs_categorical_%s.npy\" %suffix, \"rb\") as f:\n",
    "#     coeffs = np.load(f)"
   ]
  },
  {
   "cell_type": "code",
   "execution_count": 14,
   "metadata": {},
   "outputs": [],
   "source": [
    "with open(\"./datasets/X_categorical_pickle_%s.pickle\" %suffix, \"wb\") as f:\n",
    "    pickle.dump(X, f)\n",
    "with open(\"./datasets/Y_categorical_pickle_%s.pickle\" %suffix, \"wb\") as f:\n",
    "    pickle.dump(Y, f)\n",
    "with open(\"./datasets/coeffs_categorical_pickle_%s.pickle\" %suffix, \"wb\") as f:\n",
    "    pickle.dump(coeffs, f)"
   ]
  },
  {
   "cell_type": "code",
   "execution_count": null,
   "metadata": {},
   "outputs": [],
   "source": []
  }
 ],
 "metadata": {
  "kernelspec": {
   "display_name": "Python 3",
   "language": "python",
   "name": "python3"
  },
  "language_info": {
   "codemirror_mode": {
    "name": "ipython",
    "version": 3
   },
   "file_extension": ".py",
   "mimetype": "text/x-python",
   "name": "python",
   "nbconvert_exporter": "python",
   "pygments_lexer": "ipython3",
   "version": "3.8.5"
  }
 },
 "nbformat": 4,
 "nbformat_minor": 4
}
