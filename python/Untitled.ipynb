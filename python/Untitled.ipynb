{
 "cells": [
  {
   "cell_type": "code",
   "execution_count": 2,
   "metadata": {},
   "outputs": [],
   "source": [
    "import pickle\n",
    "import numpy as np\n",
    "import json"
   ]
  },
  {
   "cell_type": "code",
   "execution_count": 3,
   "metadata": {},
   "outputs": [],
   "source": [
    "suffix = 3\n",
    "with open(\"./datasets/X%s.npy\" %suffix, \"rb\") as f:\n",
    "    X = np.load(f)\n",
    "with open(\"./datasets/Y%s.npy\" %suffix, \"rb\") as f:\n",
    "    Y = np.load(f)\n",
    "with open(\"./datasets/coeffs%s.npy\" %suffix, \"rb\") as f:\n",
    "    coeffs = np.load(f)"
   ]
  },
  {
   "cell_type": "code",
   "execution_count": 4,
   "metadata": {},
   "outputs": [
    {
     "name": "stdout",
     "output_type": "stream",
     "text": [
      "(20, 10000)\n"
     ]
    }
   ],
   "source": [
    "print(X.shape)"
   ]
  },
  {
   "cell_type": "code",
   "execution_count": 5,
   "metadata": {},
   "outputs": [],
   "source": [
    "with open(\"./datasets/Xpickle_%s.pickle\" %suffix, \"wb\") as f:\n",
    "    pickle.dump(X, f)\n",
    "with open(\"./datasets/Ypickle_%s.pickle\" %suffix, \"wb\") as f:\n",
    "    pickle.dump(Y, f)\n",
    "with open(\"./datasets/coeffspickle_%s.pickle\" %suffix, \"wb\") as f:\n",
    "    pickle.dump(coeffs, f)"
   ]
  },
  {
   "cell_type": "code",
   "execution_count": null,
   "metadata": {},
   "outputs": [],
   "source": []
  }
 ],
 "metadata": {
  "kernelspec": {
   "display_name": "Python 3",
   "language": "python",
   "name": "python3"
  },
  "language_info": {
   "codemirror_mode": {
    "name": "ipython",
    "version": 3
   },
   "file_extension": ".py",
   "mimetype": "text/x-python",
   "name": "python",
   "nbconvert_exporter": "python",
   "pygments_lexer": "ipython3",
   "version": "3.8.5"
  }
 },
 "nbformat": 4,
 "nbformat_minor": 4
}
